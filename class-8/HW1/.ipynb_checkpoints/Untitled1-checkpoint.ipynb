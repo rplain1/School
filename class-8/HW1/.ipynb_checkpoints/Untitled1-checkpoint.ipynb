{
 "cells": [
  {
   "cell_type": "code",
   "execution_count": 1,
   "id": "0b2b60bd",
   "metadata": {},
   "outputs": [],
   "source": [
    "import numpy as np\n",
    "import pandas as pd"
   ]
  },
  {
   "cell_type": "code",
   "execution_count": 13,
   "id": "72aa04d7",
   "metadata": {},
   "outputs": [],
   "source": [
    "edges = pd.read_csv('data/edges.txt', sep='\\t', header=None)"
   ]
  },
  {
   "cell_type": "code",
   "execution_count": 122,
   "id": "6a9a5385",
   "metadata": {},
   "outputs": [],
   "source": [
    "nodes = pd.read_csv('data/nodes.txt', sep='\\t', header=None)"
   ]
  },
  {
   "cell_type": "code",
   "execution_count": 38,
   "id": "69b307e9",
   "metadata": {},
   "outputs": [
    {
     "data": {
      "text/html": [
       "<div>\n",
       "<style scoped>\n",
       "    .dataframe tbody tr th:only-of-type {\n",
       "        vertical-align: middle;\n",
       "    }\n",
       "\n",
       "    .dataframe tbody tr th {\n",
       "        vertical-align: top;\n",
       "    }\n",
       "\n",
       "    .dataframe thead th {\n",
       "        text-align: right;\n",
       "    }\n",
       "</style>\n",
       "<table border=\"1\" class=\"dataframe\">\n",
       "  <thead>\n",
       "    <tr style=\"text-align: right;\">\n",
       "      <th></th>\n",
       "      <th>0</th>\n",
       "      <th>1</th>\n",
       "      <th>2</th>\n",
       "      <th>3</th>\n",
       "    </tr>\n",
       "  </thead>\n",
       "  <tbody>\n",
       "    <tr>\n",
       "      <th>0</th>\n",
       "      <td>1</td>\n",
       "      <td>100monkeystyping.com</td>\n",
       "      <td>0</td>\n",
       "      <td>Blogarama</td>\n",
       "    </tr>\n",
       "    <tr>\n",
       "      <th>1</th>\n",
       "      <td>2</td>\n",
       "      <td>12thharmonic.com/wordpress</td>\n",
       "      <td>0</td>\n",
       "      <td>BlogCatalog</td>\n",
       "    </tr>\n",
       "    <tr>\n",
       "      <th>2</th>\n",
       "      <td>3</td>\n",
       "      <td>40ozblog.blogspot.com</td>\n",
       "      <td>0</td>\n",
       "      <td>Blogarama,BlogCatalog</td>\n",
       "    </tr>\n",
       "    <tr>\n",
       "      <th>3</th>\n",
       "      <td>4</td>\n",
       "      <td>4lina.tblog.com</td>\n",
       "      <td>0</td>\n",
       "      <td>Blogarama</td>\n",
       "    </tr>\n",
       "    <tr>\n",
       "      <th>4</th>\n",
       "      <td>5</td>\n",
       "      <td>750volts.blogspot.com</td>\n",
       "      <td>0</td>\n",
       "      <td>Blogarama</td>\n",
       "    </tr>\n",
       "    <tr>\n",
       "      <th>...</th>\n",
       "      <td>...</td>\n",
       "      <td>...</td>\n",
       "      <td>...</td>\n",
       "      <td>...</td>\n",
       "    </tr>\n",
       "    <tr>\n",
       "      <th>1485</th>\n",
       "      <td>1486</td>\n",
       "      <td>youngconservative.blogspot.com</td>\n",
       "      <td>1</td>\n",
       "      <td>Blogarama</td>\n",
       "    </tr>\n",
       "    <tr>\n",
       "      <th>1486</th>\n",
       "      <td>1487</td>\n",
       "      <td>zebrax.blogs.com</td>\n",
       "      <td>1</td>\n",
       "      <td>BlogCatalog</td>\n",
       "    </tr>\n",
       "    <tr>\n",
       "      <th>1487</th>\n",
       "      <td>1488</td>\n",
       "      <td>zeke01.blogspot.com</td>\n",
       "      <td>1</td>\n",
       "      <td>Blogarama,BlogCatalog</td>\n",
       "    </tr>\n",
       "    <tr>\n",
       "      <th>1488</th>\n",
       "      <td>1489</td>\n",
       "      <td>zeke01.typepad.com</td>\n",
       "      <td>1</td>\n",
       "      <td>Blogarama</td>\n",
       "    </tr>\n",
       "    <tr>\n",
       "      <th>1489</th>\n",
       "      <td>1490</td>\n",
       "      <td>zeph1z.tripod.com/blog</td>\n",
       "      <td>1</td>\n",
       "      <td>Blogarama</td>\n",
       "    </tr>\n",
       "  </tbody>\n",
       "</table>\n",
       "<p>1490 rows × 4 columns</p>\n",
       "</div>"
      ],
      "text/plain": [
       "         0                               1  2                      3\n",
       "0        1            100monkeystyping.com  0              Blogarama\n",
       "1        2      12thharmonic.com/wordpress  0            BlogCatalog\n",
       "2        3           40ozblog.blogspot.com  0  Blogarama,BlogCatalog\n",
       "3        4                 4lina.tblog.com  0              Blogarama\n",
       "4        5           750volts.blogspot.com  0              Blogarama\n",
       "...    ...                             ... ..                    ...\n",
       "1485  1486  youngconservative.blogspot.com  1              Blogarama\n",
       "1486  1487                zebrax.blogs.com  1            BlogCatalog\n",
       "1487  1488             zeke01.blogspot.com  1  Blogarama,BlogCatalog\n",
       "1488  1489              zeke01.typepad.com  1              Blogarama\n",
       "1489  1490          zeph1z.tripod.com/blog  1              Blogarama\n",
       "\n",
       "[1490 rows x 4 columns]"
      ]
     },
     "execution_count": 38,
     "metadata": {},
     "output_type": "execute_result"
    }
   ],
   "source": [
    "nodes"
   ]
  },
  {
   "cell_type": "code",
   "execution_count": 19,
   "id": "bfd80bf2",
   "metadata": {},
   "outputs": [
    {
     "data": {
      "text/html": [
       "<div>\n",
       "<style scoped>\n",
       "    .dataframe tbody tr th:only-of-type {\n",
       "        vertical-align: middle;\n",
       "    }\n",
       "\n",
       "    .dataframe tbody tr th {\n",
       "        vertical-align: top;\n",
       "    }\n",
       "\n",
       "    .dataframe thead th {\n",
       "        text-align: right;\n",
       "    }\n",
       "</style>\n",
       "<table border=\"1\" class=\"dataframe\">\n",
       "  <thead>\n",
       "    <tr style=\"text-align: right;\">\n",
       "      <th></th>\n",
       "      <th>0</th>\n",
       "      <th>1</th>\n",
       "    </tr>\n",
       "  </thead>\n",
       "  <tbody>\n",
       "    <tr>\n",
       "      <th>0</th>\n",
       "      <td>267</td>\n",
       "      <td>1394</td>\n",
       "    </tr>\n",
       "    <tr>\n",
       "      <th>1</th>\n",
       "      <td>267</td>\n",
       "      <td>483</td>\n",
       "    </tr>\n",
       "    <tr>\n",
       "      <th>2</th>\n",
       "      <td>267</td>\n",
       "      <td>1051</td>\n",
       "    </tr>\n",
       "    <tr>\n",
       "      <th>3</th>\n",
       "      <td>904</td>\n",
       "      <td>1479</td>\n",
       "    </tr>\n",
       "    <tr>\n",
       "      <th>4</th>\n",
       "      <td>904</td>\n",
       "      <td>919</td>\n",
       "    </tr>\n",
       "    <tr>\n",
       "      <th>...</th>\n",
       "      <td>...</td>\n",
       "      <td>...</td>\n",
       "    </tr>\n",
       "    <tr>\n",
       "      <th>19085</th>\n",
       "      <td>1133</td>\n",
       "      <td>1390</td>\n",
       "    </tr>\n",
       "    <tr>\n",
       "      <th>19086</th>\n",
       "      <td>1133</td>\n",
       "      <td>1429</td>\n",
       "    </tr>\n",
       "    <tr>\n",
       "      <th>19087</th>\n",
       "      <td>1133</td>\n",
       "      <td>1423</td>\n",
       "    </tr>\n",
       "    <tr>\n",
       "      <th>19088</th>\n",
       "      <td>1133</td>\n",
       "      <td>1408</td>\n",
       "    </tr>\n",
       "    <tr>\n",
       "      <th>19089</th>\n",
       "      <td>1133</td>\n",
       "      <td>1152</td>\n",
       "    </tr>\n",
       "  </tbody>\n",
       "</table>\n",
       "<p>19090 rows × 2 columns</p>\n",
       "</div>"
      ],
      "text/plain": [
       "          0     1\n",
       "0       267  1394\n",
       "1       267   483\n",
       "2       267  1051\n",
       "3       904  1479\n",
       "4       904   919\n",
       "...     ...   ...\n",
       "19085  1133  1390\n",
       "19086  1133  1429\n",
       "19087  1133  1423\n",
       "19088  1133  1408\n",
       "19089  1133  1152\n",
       "\n",
       "[19090 rows x 2 columns]"
      ]
     },
     "execution_count": 19,
     "metadata": {},
     "output_type": "execute_result"
    }
   ],
   "source": [
    "edges"
   ]
  },
  {
   "cell_type": "code",
   "execution_count": 30,
   "id": "f43d9f38",
   "metadata": {},
   "outputs": [],
   "source": [
    "edges_list = []\n",
    "\n",
    "for i, j in edges.values:\n",
    "    \n",
    "    if (i, j) not in edges_list or (j, i) not in edges_list:\n",
    "        edges_list.append((i, j))\n",
    "        \n",
    "unique_edges = pd.DataFrame(edges_list)"
   ]
  },
  {
   "cell_type": "code",
   "execution_count": 177,
   "id": "cd4fcf28",
   "metadata": {},
   "outputs": [
    {
     "data": {
      "text/html": [
       "<div>\n",
       "<style scoped>\n",
       "    .dataframe tbody tr th:only-of-type {\n",
       "        vertical-align: middle;\n",
       "    }\n",
       "\n",
       "    .dataframe tbody tr th {\n",
       "        vertical-align: top;\n",
       "    }\n",
       "\n",
       "    .dataframe thead th {\n",
       "        text-align: right;\n",
       "    }\n",
       "</style>\n",
       "<table border=\"1\" class=\"dataframe\">\n",
       "  <thead>\n",
       "    <tr style=\"text-align: right;\">\n",
       "      <th></th>\n",
       "      <th>0</th>\n",
       "      <th>1</th>\n",
       "    </tr>\n",
       "  </thead>\n",
       "  <tbody>\n",
       "    <tr>\n",
       "      <th>0</th>\n",
       "      <td>267</td>\n",
       "      <td>1394</td>\n",
       "    </tr>\n",
       "    <tr>\n",
       "      <th>1</th>\n",
       "      <td>267</td>\n",
       "      <td>483</td>\n",
       "    </tr>\n",
       "    <tr>\n",
       "      <th>2</th>\n",
       "      <td>267</td>\n",
       "      <td>1051</td>\n",
       "    </tr>\n",
       "    <tr>\n",
       "      <th>3</th>\n",
       "      <td>904</td>\n",
       "      <td>1479</td>\n",
       "    </tr>\n",
       "    <tr>\n",
       "      <th>4</th>\n",
       "      <td>904</td>\n",
       "      <td>919</td>\n",
       "    </tr>\n",
       "    <tr>\n",
       "      <th>...</th>\n",
       "      <td>...</td>\n",
       "      <td>...</td>\n",
       "    </tr>\n",
       "    <tr>\n",
       "      <th>19075</th>\n",
       "      <td>1133</td>\n",
       "      <td>1390</td>\n",
       "    </tr>\n",
       "    <tr>\n",
       "      <th>19076</th>\n",
       "      <td>1133</td>\n",
       "      <td>1429</td>\n",
       "    </tr>\n",
       "    <tr>\n",
       "      <th>19077</th>\n",
       "      <td>1133</td>\n",
       "      <td>1423</td>\n",
       "    </tr>\n",
       "    <tr>\n",
       "      <th>19078</th>\n",
       "      <td>1133</td>\n",
       "      <td>1408</td>\n",
       "    </tr>\n",
       "    <tr>\n",
       "      <th>19079</th>\n",
       "      <td>1133</td>\n",
       "      <td>1152</td>\n",
       "    </tr>\n",
       "  </tbody>\n",
       "</table>\n",
       "<p>19080 rows × 2 columns</p>\n",
       "</div>"
      ],
      "text/plain": [
       "          0     1\n",
       "0       267  1394\n",
       "1       267   483\n",
       "2       267  1051\n",
       "3       904  1479\n",
       "4       904   919\n",
       "...     ...   ...\n",
       "19075  1133  1390\n",
       "19076  1133  1429\n",
       "19077  1133  1423\n",
       "19078  1133  1408\n",
       "19079  1133  1152\n",
       "\n",
       "[19080 rows x 2 columns]"
      ]
     },
     "execution_count": 177,
     "metadata": {},
     "output_type": "execute_result"
    }
   ],
   "source": [
    "unique_edges"
   ]
  },
  {
   "cell_type": "code",
   "execution_count": 45,
   "id": "f27d305f",
   "metadata": {},
   "outputs": [
    {
     "data": {
      "text/plain": [
       "1490"
      ]
     },
     "execution_count": 45,
     "metadata": {},
     "output_type": "execute_result"
    }
   ],
   "source": [
    "len(nodes[0].unique())"
   ]
  },
  {
   "cell_type": "code",
   "execution_count": 244,
   "id": "3791bb24",
   "metadata": {},
   "outputs": [],
   "source": [
    "node_degree = {}\n",
    "for i in nodes[0].unique():\n",
    "    node_degree[i] = 0"
   ]
  },
  {
   "cell_type": "code",
   "execution_count": 245,
   "id": "b3166da3",
   "metadata": {},
   "outputs": [],
   "source": [
    "for i, j in edges_list:\n",
    "    node_degree[i] += 1\n",
    "    node_degree[j] += 1"
   ]
  },
  {
   "cell_type": "code",
   "execution_count": 246,
   "id": "e628e998",
   "metadata": {},
   "outputs": [],
   "source": [
    "m = pd.DataFrame(node_degree, index=node_degree.keys())"
   ]
  },
  {
   "cell_type": "code",
   "execution_count": 248,
   "id": "de6762f2",
   "metadata": {},
   "outputs": [
    {
     "data": {
      "text/plain": [
       "(1490, 1490)"
      ]
     },
     "execution_count": 248,
     "metadata": {},
     "output_type": "execute_result"
    }
   ],
   "source": [
    "D = np.zeros(m.shape, int)\n",
    "np.fill_diagonal( D, np.diagonal(m ))\n",
    "D.shape"
   ]
  },
  {
   "cell_type": "code",
   "execution_count": 249,
   "id": "e5c467fa",
   "metadata": {},
   "outputs": [],
   "source": [
    "A = np.zeros(m.shape, int)\n",
    "for i, j in edges_list:\n",
    "    A[i-1][j-1] = 1\n",
    "    A[j-1][i-1] = 1"
   ]
  },
  {
   "cell_type": "code",
   "execution_count": 250,
   "id": "1116c9d2",
   "metadata": {},
   "outputs": [],
   "source": [
    "idx = np.where(D.sum(axis=0) != 0)[0]\n"
   ]
  },
  {
   "cell_type": "code",
   "execution_count": 251,
   "id": "7e003f12",
   "metadata": {},
   "outputs": [],
   "source": [
    "A = A[idx, :]\n",
    "A = A[:, idx]"
   ]
  },
  {
   "cell_type": "code",
   "execution_count": 252,
   "id": "53f69340",
   "metadata": {},
   "outputs": [
    {
     "data": {
      "text/plain": [
       "(1224, 1224)"
      ]
     },
     "execution_count": 252,
     "metadata": {},
     "output_type": "execute_result"
    }
   ],
   "source": [
    "A.shape"
   ]
  },
  {
   "cell_type": "code",
   "execution_count": 254,
   "id": "a9fe2608",
   "metadata": {},
   "outputs": [
    {
     "data": {
      "text/plain": [
       "(1224, 1224)"
      ]
     },
     "execution_count": 254,
     "metadata": {},
     "output_type": "execute_result"
    }
   ],
   "source": [
    "node_degree = {k:v for k, v in node_degree.items() if v != 0}\n",
    "m = pd.DataFrame(node_degree, index=node_degree.keys())\n",
    "D = np.zeros(m.shape, int)\n",
    "np.fill_diagonal( D, np.diagonal(m ))\n",
    "D.shape"
   ]
  },
  {
   "cell_type": "code",
   "execution_count": 255,
   "id": "1578dd75",
   "metadata": {},
   "outputs": [
    {
     "data": {
      "text/plain": [
       "array([[0, 1, 0, ..., 0, 0, 0],\n",
       "       [1, 0, 0, ..., 0, 0, 0],\n",
       "       [0, 0, 0, ..., 0, 0, 0],\n",
       "       ...,\n",
       "       [0, 0, 0, ..., 0, 1, 0],\n",
       "       [0, 0, 0, ..., 1, 0, 0],\n",
       "       [0, 0, 0, ..., 0, 0, 0]])"
      ]
     },
     "execution_count": 255,
     "metadata": {},
     "output_type": "execute_result"
    }
   ],
   "source": [
    "A"
   ]
  },
  {
   "cell_type": "code",
   "execution_count": 256,
   "id": "8ee1aca7",
   "metadata": {},
   "outputs": [
    {
     "data": {
      "text/plain": [
       "array([[27, -1,  0, ...,  0,  0,  0],\n",
       "       [-1, 48,  0, ...,  0,  0,  0],\n",
       "       [ 0,  0,  4, ...,  0,  0,  0],\n",
       "       ...,\n",
       "       [ 0,  0,  0, ...,  1, -1,  0],\n",
       "       [ 0,  0,  0, ..., -1, 22,  0],\n",
       "       [ 0,  0,  0, ...,  0,  0,  1]])"
      ]
     },
     "execution_count": 256,
     "metadata": {},
     "output_type": "execute_result"
    }
   ],
   "source": [
    "L = D - A\n",
    "L"
   ]
  },
  {
   "cell_type": "code",
   "execution_count": 271,
   "id": "cd6d2449",
   "metadata": {},
   "outputs": [],
   "source": []
  },
  {
   "cell_type": "code",
   "execution_count": 272,
   "id": "31596ee1",
   "metadata": {},
   "outputs": [],
   "source": [
    "k = 4\n",
    "\n",
    "v, x= np.linalg.eig(L)\n",
    "\n",
    "indx_sorted = np.argsort(v)\n",
    "x = x[:, idx_sorted[-k:]].real\n",
    "\n",
    "x = x/np.repeat(np.sqrt(np.sum(x*x, axis=1).reshape(-1, 1)), k, axis=1)\n",
    "\n",
    "kmeans = KMeans(n_clusters=k).fit(x.real)\n",
    "labels = kmeans.labels_"
   ]
  },
  {
   "cell_type": "code",
   "execution_count": 280,
   "id": "762e2a7a",
   "metadata": {},
   "outputs": [
    {
     "data": {
      "text/plain": [
       "2    411\n",
       "0    371\n",
       "1    270\n",
       "3    172\n",
       "Name: label, dtype: int64"
      ]
     },
     "execution_count": 280,
     "metadata": {},
     "output_type": "execute_result"
    }
   ],
   "source": [
    "nodes_test = nodes.copy()\n",
    "nodes_test = nodes_test[nodes_test[0].isin(node_degree.keys())]\n",
    "nodes_test['label'] = labels\n",
    "nodes_test['label'].value_counts()"
   ]
  },
  {
   "cell_type": "code",
   "execution_count": 281,
   "id": "05bc3081",
   "metadata": {},
   "outputs": [
    {
     "data": {
      "text/html": [
       "<div>\n",
       "<style scoped>\n",
       "    .dataframe tbody tr th:only-of-type {\n",
       "        vertical-align: middle;\n",
       "    }\n",
       "\n",
       "    .dataframe tbody tr th {\n",
       "        vertical-align: top;\n",
       "    }\n",
       "\n",
       "    .dataframe thead th {\n",
       "        text-align: right;\n",
       "    }\n",
       "</style>\n",
       "<table border=\"1\" class=\"dataframe\">\n",
       "  <thead>\n",
       "    <tr style=\"text-align: right;\">\n",
       "      <th></th>\n",
       "      <th>0</th>\n",
       "      <th>1</th>\n",
       "      <th>2</th>\n",
       "      <th>3</th>\n",
       "      <th>label</th>\n",
       "    </tr>\n",
       "  </thead>\n",
       "  <tbody>\n",
       "    <tr>\n",
       "      <th>0</th>\n",
       "      <td>1</td>\n",
       "      <td>100monkeystyping.com</td>\n",
       "      <td>0</td>\n",
       "      <td>Blogarama</td>\n",
       "      <td>0</td>\n",
       "    </tr>\n",
       "    <tr>\n",
       "      <th>1</th>\n",
       "      <td>2</td>\n",
       "      <td>12thharmonic.com/wordpress</td>\n",
       "      <td>0</td>\n",
       "      <td>BlogCatalog</td>\n",
       "      <td>0</td>\n",
       "    </tr>\n",
       "    <tr>\n",
       "      <th>4</th>\n",
       "      <td>5</td>\n",
       "      <td>750volts.blogspot.com</td>\n",
       "      <td>0</td>\n",
       "      <td>Blogarama</td>\n",
       "      <td>2</td>\n",
       "    </tr>\n",
       "    <tr>\n",
       "      <th>5</th>\n",
       "      <td>6</td>\n",
       "      <td>95theses.blogspot.com</td>\n",
       "      <td>0</td>\n",
       "      <td>Blogarama</td>\n",
       "      <td>2</td>\n",
       "    </tr>\n",
       "    <tr>\n",
       "      <th>6</th>\n",
       "      <td>7</td>\n",
       "      <td>abbadabbaduo.blogspot.com</td>\n",
       "      <td>0</td>\n",
       "      <td>Blogarama,LeftyDirectory</td>\n",
       "      <td>2</td>\n",
       "    </tr>\n",
       "    <tr>\n",
       "      <th>...</th>\n",
       "      <td>...</td>\n",
       "      <td>...</td>\n",
       "      <td>...</td>\n",
       "      <td>...</td>\n",
       "      <td>...</td>\n",
       "    </tr>\n",
       "    <tr>\n",
       "      <th>1485</th>\n",
       "      <td>1486</td>\n",
       "      <td>youngconservative.blogspot.com</td>\n",
       "      <td>1</td>\n",
       "      <td>Blogarama</td>\n",
       "      <td>3</td>\n",
       "    </tr>\n",
       "    <tr>\n",
       "      <th>1486</th>\n",
       "      <td>1487</td>\n",
       "      <td>zebrax.blogs.com</td>\n",
       "      <td>1</td>\n",
       "      <td>BlogCatalog</td>\n",
       "      <td>2</td>\n",
       "    </tr>\n",
       "    <tr>\n",
       "      <th>1487</th>\n",
       "      <td>1488</td>\n",
       "      <td>zeke01.blogspot.com</td>\n",
       "      <td>1</td>\n",
       "      <td>Blogarama,BlogCatalog</td>\n",
       "      <td>2</td>\n",
       "    </tr>\n",
       "    <tr>\n",
       "      <th>1488</th>\n",
       "      <td>1489</td>\n",
       "      <td>zeke01.typepad.com</td>\n",
       "      <td>1</td>\n",
       "      <td>Blogarama</td>\n",
       "      <td>3</td>\n",
       "    </tr>\n",
       "    <tr>\n",
       "      <th>1489</th>\n",
       "      <td>1490</td>\n",
       "      <td>zeph1z.tripod.com/blog</td>\n",
       "      <td>1</td>\n",
       "      <td>Blogarama</td>\n",
       "      <td>1</td>\n",
       "    </tr>\n",
       "  </tbody>\n",
       "</table>\n",
       "<p>1224 rows × 5 columns</p>\n",
       "</div>"
      ],
      "text/plain": [
       "         0                               1  2                         3  label\n",
       "0        1            100monkeystyping.com  0                 Blogarama      0\n",
       "1        2      12thharmonic.com/wordpress  0               BlogCatalog      0\n",
       "4        5           750volts.blogspot.com  0                 Blogarama      2\n",
       "5        6           95theses.blogspot.com  0                 Blogarama      2\n",
       "6        7       abbadabbaduo.blogspot.com  0  Blogarama,LeftyDirectory      2\n",
       "...    ...                             ... ..                       ...    ...\n",
       "1485  1486  youngconservative.blogspot.com  1                 Blogarama      3\n",
       "1486  1487                zebrax.blogs.com  1               BlogCatalog      2\n",
       "1487  1488             zeke01.blogspot.com  1     Blogarama,BlogCatalog      2\n",
       "1488  1489              zeke01.typepad.com  1                 Blogarama      3\n",
       "1489  1490          zeph1z.tripod.com/blog  1                 Blogarama      1\n",
       "\n",
       "[1224 rows x 5 columns]"
      ]
     },
     "execution_count": 281,
     "metadata": {},
     "output_type": "execute_result"
    }
   ],
   "source": [
    "nodes_test"
   ]
  },
  {
   "cell_type": "code",
   "execution_count": 287,
   "id": "a9475697",
   "metadata": {},
   "outputs": [],
   "source": [
    "classification = nodes_test.groupby(['label'])[2].agg(lambda x: x.value_counts().index[0])"
   ]
  },
  {
   "cell_type": "code",
   "execution_count": 297,
   "id": "1d6ae9e6",
   "metadata": {},
   "outputs": [],
   "source": [
    "df = nodes_test.merge(classification, left_on='label', right_on='label')"
   ]
  },
  {
   "cell_type": "code",
   "execution_count": 298,
   "id": "4aad8291",
   "metadata": {},
   "outputs": [
    {
     "data": {
      "text/html": [
       "<div>\n",
       "<style scoped>\n",
       "    .dataframe tbody tr th:only-of-type {\n",
       "        vertical-align: middle;\n",
       "    }\n",
       "\n",
       "    .dataframe tbody tr th {\n",
       "        vertical-align: top;\n",
       "    }\n",
       "\n",
       "    .dataframe thead th {\n",
       "        text-align: right;\n",
       "    }\n",
       "</style>\n",
       "<table border=\"1\" class=\"dataframe\">\n",
       "  <thead>\n",
       "    <tr style=\"text-align: right;\">\n",
       "      <th></th>\n",
       "      <th>0</th>\n",
       "      <th>1</th>\n",
       "      <th>2_x</th>\n",
       "      <th>3</th>\n",
       "      <th>label</th>\n",
       "      <th>2_y</th>\n",
       "    </tr>\n",
       "  </thead>\n",
       "  <tbody>\n",
       "    <tr>\n",
       "      <th>0</th>\n",
       "      <td>1</td>\n",
       "      <td>100monkeystyping.com</td>\n",
       "      <td>0</td>\n",
       "      <td>Blogarama</td>\n",
       "      <td>0</td>\n",
       "      <td>0</td>\n",
       "    </tr>\n",
       "    <tr>\n",
       "      <th>1</th>\n",
       "      <td>2</td>\n",
       "      <td>12thharmonic.com/wordpress</td>\n",
       "      <td>0</td>\n",
       "      <td>BlogCatalog</td>\n",
       "      <td>0</td>\n",
       "      <td>0</td>\n",
       "    </tr>\n",
       "    <tr>\n",
       "      <th>2</th>\n",
       "      <td>8</td>\n",
       "      <td>aboutpolitics.blogspot.com</td>\n",
       "      <td>0</td>\n",
       "      <td>Blogarama,eTalkingHead</td>\n",
       "      <td>0</td>\n",
       "      <td>0</td>\n",
       "    </tr>\n",
       "    <tr>\n",
       "      <th>3</th>\n",
       "      <td>9</td>\n",
       "      <td>achingandspinning.blogspot.com</td>\n",
       "      <td>0</td>\n",
       "      <td>Blogarama</td>\n",
       "      <td>0</td>\n",
       "      <td>0</td>\n",
       "    </tr>\n",
       "    <tr>\n",
       "      <th>4</th>\n",
       "      <td>10</td>\n",
       "      <td>ackackack.com</td>\n",
       "      <td>0</td>\n",
       "      <td>BlogCatalog</td>\n",
       "      <td>0</td>\n",
       "      <td>0</td>\n",
       "    </tr>\n",
       "    <tr>\n",
       "      <th>...</th>\n",
       "      <td>...</td>\n",
       "      <td>...</td>\n",
       "      <td>...</td>\n",
       "      <td>...</td>\n",
       "      <td>...</td>\n",
       "      <td>...</td>\n",
       "    </tr>\n",
       "    <tr>\n",
       "      <th>1219</th>\n",
       "      <td>1474</td>\n",
       "      <td>wildweasel.blog-city.com</td>\n",
       "      <td>1</td>\n",
       "      <td>Blogarama</td>\n",
       "      <td>3</td>\n",
       "      <td>1</td>\n",
       "    </tr>\n",
       "    <tr>\n",
       "      <th>1220</th>\n",
       "      <td>1475</td>\n",
       "      <td>williamwebbdotorg.blogspot.com</td>\n",
       "      <td>1</td>\n",
       "      <td>eTalkingHead</td>\n",
       "      <td>3</td>\n",
       "      <td>1</td>\n",
       "    </tr>\n",
       "    <tr>\n",
       "      <th>1221</th>\n",
       "      <td>1485</td>\n",
       "      <td>xtremerightwing.net</td>\n",
       "      <td>1</td>\n",
       "      <td>Blogarama</td>\n",
       "      <td>3</td>\n",
       "      <td>1</td>\n",
       "    </tr>\n",
       "    <tr>\n",
       "      <th>1222</th>\n",
       "      <td>1486</td>\n",
       "      <td>youngconservative.blogspot.com</td>\n",
       "      <td>1</td>\n",
       "      <td>Blogarama</td>\n",
       "      <td>3</td>\n",
       "      <td>1</td>\n",
       "    </tr>\n",
       "    <tr>\n",
       "      <th>1223</th>\n",
       "      <td>1489</td>\n",
       "      <td>zeke01.typepad.com</td>\n",
       "      <td>1</td>\n",
       "      <td>Blogarama</td>\n",
       "      <td>3</td>\n",
       "      <td>1</td>\n",
       "    </tr>\n",
       "  </tbody>\n",
       "</table>\n",
       "<p>1224 rows × 6 columns</p>\n",
       "</div>"
      ],
      "text/plain": [
       "         0                               1  2_x                       3  \\\n",
       "0        1            100monkeystyping.com    0               Blogarama   \n",
       "1        2      12thharmonic.com/wordpress    0             BlogCatalog   \n",
       "2        8      aboutpolitics.blogspot.com    0  Blogarama,eTalkingHead   \n",
       "3        9  achingandspinning.blogspot.com    0               Blogarama   \n",
       "4       10                   ackackack.com    0             BlogCatalog   \n",
       "...    ...                             ...  ...                     ...   \n",
       "1219  1474        wildweasel.blog-city.com    1               Blogarama   \n",
       "1220  1475  williamwebbdotorg.blogspot.com    1            eTalkingHead   \n",
       "1221  1485             xtremerightwing.net    1               Blogarama   \n",
       "1222  1486  youngconservative.blogspot.com    1               Blogarama   \n",
       "1223  1489              zeke01.typepad.com    1               Blogarama   \n",
       "\n",
       "      label  2_y  \n",
       "0         0    0  \n",
       "1         0    0  \n",
       "2         0    0  \n",
       "3         0    0  \n",
       "4         0    0  \n",
       "...     ...  ...  \n",
       "1219      3    1  \n",
       "1220      3    1  \n",
       "1221      3    1  \n",
       "1222      3    1  \n",
       "1223      3    1  \n",
       "\n",
       "[1224 rows x 6 columns]"
      ]
     },
     "execution_count": 298,
     "metadata": {},
     "output_type": "execute_result"
    }
   ],
   "source": [
    "df"
   ]
  },
  {
   "cell_type": "code",
   "execution_count": 310,
   "id": "39d6868b",
   "metadata": {},
   "outputs": [
    {
     "data": {
      "text/plain": [
       "2_x  2_y  label\n",
       "0    0    0        351\n",
       "          2        215\n",
       "     1    1         19\n",
       "          3          3\n",
       "1    0    2        196\n",
       "          0         20\n",
       "     1    1        251\n",
       "          3        169\n",
       "Name: label, dtype: int64"
      ]
     },
     "execution_count": 310,
     "metadata": {},
     "output_type": "execute_result"
    }
   ],
   "source": [
    "df.groupby(['2_x', '2_y'])['label'].value_counts()"
   ]
  },
  {
   "cell_type": "code",
   "execution_count": null,
   "id": "0e598ab4",
   "metadata": {},
   "outputs": [],
   "source": []
  },
  {
   "cell_type": "code",
   "execution_count": null,
   "id": "22901ad0",
   "metadata": {},
   "outputs": [],
   "source": []
  },
  {
   "cell_type": "code",
   "execution_count": null,
   "id": "5e71b96d",
   "metadata": {},
   "outputs": [],
   "source": []
  },
  {
   "cell_type": "code",
   "execution_count": null,
   "id": "3d71faec",
   "metadata": {},
   "outputs": [],
   "source": []
  },
  {
   "cell_type": "code",
   "execution_count": null,
   "id": "afcfe69b",
   "metadata": {},
   "outputs": [],
   "source": []
  }
 ],
 "metadata": {
  "kernelspec": {
   "display_name": "Python 3 (ipykernel)",
   "language": "python",
   "name": "python3"
  },
  "language_info": {
   "codemirror_mode": {
    "name": "ipython",
    "version": 3
   },
   "file_extension": ".py",
   "mimetype": "text/x-python",
   "name": "python",
   "nbconvert_exporter": "python",
   "pygments_lexer": "ipython3",
   "version": "3.9.9"
  }
 },
 "nbformat": 4,
 "nbformat_minor": 5
}

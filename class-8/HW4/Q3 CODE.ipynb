{
 "cells": [
  {
   "cell_type": "markdown",
   "id": "fadeef71",
   "metadata": {},
   "source": [
    "# Naive Bayes"
   ]
  },
  {
   "cell_type": "markdown",
   "id": "a17b9f8d",
   "metadata": {},
   "source": [
    "$V = {secret, offer, low, price, valued, customer, today, dollar, million, sports, is, for, play, healthy, pizza}$"
   ]
  },
  {
   "cell_type": "markdown",
   "id": "bf866a66",
   "metadata": {},
   "source": [
    "$\\mathscr{l}$"
   ]
  },
  {
   "cell_type": "code",
   "execution_count": null,
   "id": "25e50336",
   "metadata": {},
   "outputs": [],
   "source": []
  }
 ],
 "metadata": {
  "kernelspec": {
   "display_name": "Python 3 (ipykernel)",
   "language": "python",
   "name": "python3"
  },
  "language_info": {
   "codemirror_mode": {
    "name": "ipython",
    "version": 3
   },
   "file_extension": ".py",
   "mimetype": "text/x-python",
   "name": "python",
   "nbconvert_exporter": "python",
   "pygments_lexer": "ipython3",
   "version": "3.9.9"
  }
 },
 "nbformat": 4,
 "nbformat_minor": 5
}

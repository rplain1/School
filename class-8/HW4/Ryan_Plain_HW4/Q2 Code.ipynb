{
 "cells": [
  {
   "cell_type": "code",
   "execution_count": 23,
   "id": "ba5a7c76",
   "metadata": {},
   "outputs": [],
   "source": [
    "import pandas as pd\n",
    "import numpy as np\n",
    "\n",
    "import matplotlib.pyplot as plt\n",
    "import seaborn as sns\n",
    "sns.set()\n",
    "\n",
    "from scipy.io import loadmat\n",
    "\n",
    "from itertools import product\n",
    "\n",
    "from sklearn.model_selection import train_test_split\n",
    "from sklearn.naive_bayes import GaussianNB\n",
    "from sklearn.linear_model import LogisticRegression\n",
    "from sklearn.neighbors import KNeighborsClassifier\n",
    "from sklearn.decomposition import PCA\n",
    "from sklearn.svm import SVC\n",
    "from sklearn.neural_network import MLPClassifier\n",
    "\n",
    "from sklearn.metrics import accuracy_score\n",
    "from sklearn.metrics import confusion_matrix\n",
    "from sklearn.metrics import f1_score\n",
    "from sklearn.metrics import classification_report"
   ]
  },
  {
   "cell_type": "markdown",
   "id": "b38ea22a",
   "metadata": {},
   "source": [
    "# Q2 Part 1\n",
    "\n",
    "### a.) "
   ]
  },
  {
   "cell_type": "code",
   "execution_count": 5,
   "id": "8f39218e",
   "metadata": {},
   "outputs": [
    {
     "name": "stdout",
     "output_type": "stream",
     "text": [
      "(170, 55)\n"
     ]
    },
    {
     "data": {
      "text/html": [
       "<div>\n",
       "<style scoped>\n",
       "    .dataframe tbody tr th:only-of-type {\n",
       "        vertical-align: middle;\n",
       "    }\n",
       "\n",
       "    .dataframe tbody tr th {\n",
       "        vertical-align: top;\n",
       "    }\n",
       "\n",
       "    .dataframe thead th {\n",
       "        text-align: right;\n",
       "    }\n",
       "</style>\n",
       "<table border=\"1\" class=\"dataframe\">\n",
       "  <thead>\n",
       "    <tr style=\"text-align: right;\">\n",
       "      <th></th>\n",
       "      <th>0</th>\n",
       "      <th>1</th>\n",
       "      <th>2</th>\n",
       "      <th>3</th>\n",
       "      <th>4</th>\n",
       "      <th>5</th>\n",
       "      <th>6</th>\n",
       "      <th>7</th>\n",
       "      <th>8</th>\n",
       "      <th>9</th>\n",
       "      <th>...</th>\n",
       "      <th>45</th>\n",
       "      <th>46</th>\n",
       "      <th>47</th>\n",
       "      <th>48</th>\n",
       "      <th>49</th>\n",
       "      <th>50</th>\n",
       "      <th>51</th>\n",
       "      <th>52</th>\n",
       "      <th>53</th>\n",
       "      <th>54</th>\n",
       "    </tr>\n",
       "  </thead>\n",
       "  <tbody>\n",
       "    <tr>\n",
       "      <th>0</th>\n",
       "      <td>1.560903</td>\n",
       "      <td>3.681587</td>\n",
       "      <td>3.450467</td>\n",
       "      <td>3.211998</td>\n",
       "      <td>-1.203045</td>\n",
       "      <td>0.597706</td>\n",
       "      <td>-0.970093</td>\n",
       "      <td>-0.750970</td>\n",
       "      <td>-0.511495</td>\n",
       "      <td>-0.133660</td>\n",
       "      <td>...</td>\n",
       "      <td>2.077401</td>\n",
       "      <td>1.184182</td>\n",
       "      <td>3.955069</td>\n",
       "      <td>2.608046</td>\n",
       "      <td>2.303629</td>\n",
       "      <td>1.721660</td>\n",
       "      <td>3.275018</td>\n",
       "      <td>1.761019</td>\n",
       "      <td>1.215237</td>\n",
       "      <td>1.0</td>\n",
       "    </tr>\n",
       "    <tr>\n",
       "      <th>1</th>\n",
       "      <td>4.153272</td>\n",
       "      <td>5.173858</td>\n",
       "      <td>4.100690</td>\n",
       "      <td>2.580173</td>\n",
       "      <td>3.305788</td>\n",
       "      <td>-1.505512</td>\n",
       "      <td>-0.029398</td>\n",
       "      <td>5.702657</td>\n",
       "      <td>2.230281</td>\n",
       "      <td>4.975496</td>\n",
       "      <td>...</td>\n",
       "      <td>3.467076</td>\n",
       "      <td>2.451984</td>\n",
       "      <td>3.504294</td>\n",
       "      <td>5.324240</td>\n",
       "      <td>4.480607</td>\n",
       "      <td>5.375248</td>\n",
       "      <td>2.270379</td>\n",
       "      <td>2.167944</td>\n",
       "      <td>2.191214</td>\n",
       "      <td>1.0</td>\n",
       "    </tr>\n",
       "    <tr>\n",
       "      <th>2</th>\n",
       "      <td>2.226241</td>\n",
       "      <td>1.575322</td>\n",
       "      <td>2.389117</td>\n",
       "      <td>2.725405</td>\n",
       "      <td>-0.304562</td>\n",
       "      <td>2.832803</td>\n",
       "      <td>1.787779</td>\n",
       "      <td>0.565755</td>\n",
       "      <td>1.328212</td>\n",
       "      <td>2.335353</td>\n",
       "      <td>...</td>\n",
       "      <td>1.200917</td>\n",
       "      <td>1.241794</td>\n",
       "      <td>2.207492</td>\n",
       "      <td>1.228034</td>\n",
       "      <td>0.870052</td>\n",
       "      <td>1.685040</td>\n",
       "      <td>2.341985</td>\n",
       "      <td>-0.444320</td>\n",
       "      <td>2.527452</td>\n",
       "      <td>1.0</td>\n",
       "    </tr>\n",
       "    <tr>\n",
       "      <th>3</th>\n",
       "      <td>3.553458</td>\n",
       "      <td>2.859042</td>\n",
       "      <td>2.928414</td>\n",
       "      <td>1.833241</td>\n",
       "      <td>1.271119</td>\n",
       "      <td>4.165213</td>\n",
       "      <td>2.078597</td>\n",
       "      <td>4.506175</td>\n",
       "      <td>2.521628</td>\n",
       "      <td>2.747315</td>\n",
       "      <td>...</td>\n",
       "      <td>3.196291</td>\n",
       "      <td>2.204824</td>\n",
       "      <td>3.664982</td>\n",
       "      <td>3.689508</td>\n",
       "      <td>2.577677</td>\n",
       "      <td>3.171884</td>\n",
       "      <td>2.164660</td>\n",
       "      <td>1.813024</td>\n",
       "      <td>1.376033</td>\n",
       "      <td>1.0</td>\n",
       "    </tr>\n",
       "    <tr>\n",
       "      <th>4</th>\n",
       "      <td>0.506547</td>\n",
       "      <td>1.419223</td>\n",
       "      <td>1.716153</td>\n",
       "      <td>1.319274</td>\n",
       "      <td>2.853840</td>\n",
       "      <td>0.047412</td>\n",
       "      <td>-0.016515</td>\n",
       "      <td>0.620795</td>\n",
       "      <td>1.202992</td>\n",
       "      <td>0.078347</td>\n",
       "      <td>...</td>\n",
       "      <td>1.806657</td>\n",
       "      <td>2.085539</td>\n",
       "      <td>2.012551</td>\n",
       "      <td>1.899477</td>\n",
       "      <td>1.510134</td>\n",
       "      <td>1.373350</td>\n",
       "      <td>2.551119</td>\n",
       "      <td>0.846321</td>\n",
       "      <td>-0.066858</td>\n",
       "      <td>1.0</td>\n",
       "    </tr>\n",
       "  </tbody>\n",
       "</table>\n",
       "<p>5 rows × 55 columns</p>\n",
       "</div>"
      ],
      "text/plain": [
       "         0         1         2         3         4         5         6   \\\n",
       "0  1.560903  3.681587  3.450467  3.211998 -1.203045  0.597706 -0.970093   \n",
       "1  4.153272  5.173858  4.100690  2.580173  3.305788 -1.505512 -0.029398   \n",
       "2  2.226241  1.575322  2.389117  2.725405 -0.304562  2.832803  1.787779   \n",
       "3  3.553458  2.859042  2.928414  1.833241  1.271119  4.165213  2.078597   \n",
       "4  0.506547  1.419223  1.716153  1.319274  2.853840  0.047412 -0.016515   \n",
       "\n",
       "         7         8         9   ...        45        46        47        48  \\\n",
       "0 -0.750970 -0.511495 -0.133660  ...  2.077401  1.184182  3.955069  2.608046   \n",
       "1  5.702657  2.230281  4.975496  ...  3.467076  2.451984  3.504294  5.324240   \n",
       "2  0.565755  1.328212  2.335353  ...  1.200917  1.241794  2.207492  1.228034   \n",
       "3  4.506175  2.521628  2.747315  ...  3.196291  2.204824  3.664982  3.689508   \n",
       "4  0.620795  1.202992  0.078347  ...  1.806657  2.085539  2.012551  1.899477   \n",
       "\n",
       "         49        50        51        52        53   54  \n",
       "0  2.303629  1.721660  3.275018  1.761019  1.215237  1.0  \n",
       "1  4.480607  5.375248  2.270379  2.167944  2.191214  1.0  \n",
       "2  0.870052  1.685040  2.341985 -0.444320  2.527452  1.0  \n",
       "3  2.577677  3.171884  2.164660  1.813024  1.376033  1.0  \n",
       "4  1.510134  1.373350  2.551119  0.846321 -0.066858  1.0  \n",
       "\n",
       "[5 rows x 55 columns]"
      ]
     },
     "execution_count": 5,
     "metadata": {},
     "output_type": "execute_result"
    }
   ],
   "source": [
    "df = pd.read_csv(\"data/marriage.csv\", header=None)\n",
    "print(df.shape)\n",
    "df.head()"
   ]
  },
  {
   "cell_type": "code",
   "execution_count": 115,
   "id": "82cf4dd5",
   "metadata": {},
   "outputs": [
    {
     "data": {
      "text/plain": [
       "0      1.0\n",
       "1      1.0\n",
       "2      1.0\n",
       "3      1.0\n",
       "4      1.0\n",
       "      ... \n",
       "165    0.0\n",
       "166    0.0\n",
       "167    0.0\n",
       "168    0.0\n",
       "169    0.0\n",
       "Name: 54, Length: 170, dtype: float64"
      ]
     },
     "execution_count": 115,
     "metadata": {},
     "output_type": "execute_result"
    }
   ],
   "source": [
    "df.iloc[:, -1]"
   ]
  },
  {
   "cell_type": "code",
   "execution_count": 7,
   "id": "36d12873",
   "metadata": {},
   "outputs": [],
   "source": [
    "divorce = df.iloc[:, -1]\n",
    "dat = df.iloc[:, :-1]"
   ]
  },
  {
   "cell_type": "code",
   "execution_count": 9,
   "id": "f6614322",
   "metadata": {},
   "outputs": [
    {
     "name": "stdout",
     "output_type": "stream",
     "text": [
      "(170,)\n"
     ]
    },
    {
     "data": {
      "text/plain": [
       "(170, 54)"
      ]
     },
     "execution_count": 9,
     "metadata": {},
     "output_type": "execute_result"
    }
   ],
   "source": [
    "print(divorce.shape)\n",
    "dat.shape"
   ]
  },
  {
   "cell_type": "code",
   "execution_count": 174,
   "id": "6d88e8aa",
   "metadata": {},
   "outputs": [
    {
     "name": "stdout",
     "output_type": "stream",
     "text": [
      "(136, 54)\n",
      "(34, 54)\n",
      "(136,)\n",
      "(34,)\n"
     ]
    }
   ],
   "source": [
    "X_train, X_test, y_train, y_test = train_test_split(dat.values, divorce.values, test_size=0.2, random_state=1234, stratify=divorce.values)\n",
    "print(X_train.shape)\n",
    "print(X_test.shape)\n",
    "print(y_train.shape)\n",
    "print(y_test.shape)"
   ]
  },
  {
   "cell_type": "markdown",
   "id": "4295dca3",
   "metadata": {},
   "source": [
    "## Naive Bayes"
   ]
  },
  {
   "cell_type": "markdown",
   "id": "a9c6c783",
   "metadata": {},
   "source": [
    "Not finding any features with a variance close to 0"
   ]
  },
  {
   "cell_type": "code",
   "execution_count": 175,
   "id": "5c99f4b1",
   "metadata": {},
   "outputs": [
    {
     "data": {
      "text/plain": [
       "array([3.699232  , 3.01057444, 2.86717162, 3.29857823, 3.42165628,\n",
       "       1.80839576, 1.69838961, 3.16470522, 3.77263139, 2.49830908,\n",
       "       4.01096409, 3.01344354, 3.29015989, 3.14030268, 3.21729252,\n",
       "       3.24100654, 3.33689258, 3.21305428, 3.78022589, 2.95005403,\n",
       "       2.89464263, 2.98008491, 3.16640142, 3.34562613, 3.62186144,\n",
       "       3.09138147, 3.05606417, 3.12034234, 3.4285318 , 3.47771537,\n",
       "       3.32594913, 3.64038311, 4.32816249, 3.56199492, 4.18065884,\n",
       "       3.89061562, 4.17045849, 3.9299549 , 4.06143909, 4.11205887,\n",
       "       3.9701091 , 3.96778436, 2.59911671, 4.12516455, 3.26690784,\n",
       "       2.88709693, 3.30937341, 2.12652735, 3.30484706, 3.0859122 ,\n",
       "       2.4801649 , 3.27047472, 3.48842774, 3.399469  ])"
      ]
     },
     "execution_count": 175,
     "metadata": {},
     "output_type": "execute_result"
    }
   ],
   "source": [
    "dat.values.var(axis=0)"
   ]
  },
  {
   "cell_type": "code",
   "execution_count": 176,
   "id": "645160c3",
   "metadata": {},
   "outputs": [],
   "source": [
    "gnb = GaussianNB()\n",
    "y_pred = gnb.fit(X_train, y_train).predict(X_test)"
   ]
  },
  {
   "cell_type": "code",
   "execution_count": 177,
   "id": "9aa697eb",
   "metadata": {},
   "outputs": [
    {
     "data": {
      "text/plain": [
       "0.9705882352941176"
      ]
     },
     "execution_count": 177,
     "metadata": {},
     "output_type": "execute_result"
    }
   ],
   "source": [
    "accuracy_score(y_test, y_pred)"
   ]
  },
  {
   "cell_type": "markdown",
   "id": "2384693d",
   "metadata": {},
   "source": [
    "## Logistic Regression"
   ]
  },
  {
   "cell_type": "code",
   "execution_count": 178,
   "id": "7213a9c4",
   "metadata": {},
   "outputs": [],
   "source": [
    "clf = LogisticRegression(random_state=1234)\n",
    "y_pred_lr = clf.fit(X_train, y_train).predict(X_test)"
   ]
  },
  {
   "cell_type": "code",
   "execution_count": 179,
   "id": "24e08b91",
   "metadata": {},
   "outputs": [
    {
     "data": {
      "text/plain": [
       "0.9705882352941176"
      ]
     },
     "execution_count": 179,
     "metadata": {},
     "output_type": "execute_result"
    }
   ],
   "source": [
    "accuracy_score(y_test, y_pred_lr)"
   ]
  },
  {
   "cell_type": "markdown",
   "id": "d426ed5d",
   "metadata": {},
   "source": [
    "## KNN"
   ]
  },
  {
   "cell_type": "code",
   "execution_count": 180,
   "id": "a52ca383",
   "metadata": {},
   "outputs": [],
   "source": [
    "knn_scores = {}\n",
    "for i in range(2, 20):\n",
    "    \n",
    "    pred = KNeighborsClassifier(n_neighbors=i).fit(X_train, y_train).predict(X_test)\n",
    "    knn_scores[i] = accuracy_score(y_test, pred)\n",
    "    "
   ]
  },
  {
   "cell_type": "code",
   "execution_count": 181,
   "id": "3dbfebc9",
   "metadata": {},
   "outputs": [
    {
     "data": {
      "text/plain": [
       "{2: 0.9705882352941176,\n",
       " 3: 0.9705882352941176,\n",
       " 4: 0.9705882352941176,\n",
       " 5: 0.9705882352941176,\n",
       " 6: 0.9705882352941176,\n",
       " 7: 0.9705882352941176,\n",
       " 8: 0.9705882352941176,\n",
       " 9: 0.9705882352941176,\n",
       " 10: 0.9705882352941176,\n",
       " 11: 0.9705882352941176,\n",
       " 12: 0.9705882352941176,\n",
       " 13: 0.9705882352941176,\n",
       " 14: 0.9705882352941176,\n",
       " 15: 0.9705882352941176,\n",
       " 16: 0.9705882352941176,\n",
       " 17: 0.9705882352941176,\n",
       " 18: 0.9705882352941176,\n",
       " 19: 0.9705882352941176}"
      ]
     },
     "execution_count": 181,
     "metadata": {},
     "output_type": "execute_result"
    }
   ],
   "source": [
    "knn_scores"
   ]
  },
  {
   "cell_type": "markdown",
   "id": "90779e6d",
   "metadata": {},
   "source": [
    "--- \n",
    "\n",
    "# PCA projections\n",
    "\n",
    "### b.)"
   ]
  },
  {
   "cell_type": "code",
   "execution_count": 182,
   "id": "416e0f7b",
   "metadata": {},
   "outputs": [],
   "source": [
    "pca = PCA(n_components=2)\n",
    "X_train_pca = pca.fit_transform(X_train)\n",
    "X_test_pca = pca.transform(X_test)"
   ]
  },
  {
   "cell_type": "markdown",
   "id": "62aead78",
   "metadata": {},
   "source": [
    "## Naive Bayes"
   ]
  },
  {
   "cell_type": "code",
   "execution_count": 183,
   "id": "a07000a6",
   "metadata": {},
   "outputs": [],
   "source": [
    "gnb = GaussianNB()\n",
    "y_pred = gnb.fit(X_train_pca, y_train).predict(X_test_pca)"
   ]
  },
  {
   "cell_type": "code",
   "execution_count": 184,
   "id": "20ead16c",
   "metadata": {},
   "outputs": [
    {
     "data": {
      "text/plain": [
       "0.9705882352941176"
      ]
     },
     "execution_count": 184,
     "metadata": {},
     "output_type": "execute_result"
    }
   ],
   "source": [
    "accuracy_score(y_test, y_pred)"
   ]
  },
  {
   "cell_type": "markdown",
   "id": "0b8c35f4",
   "metadata": {},
   "source": [
    "## Logistic Regression"
   ]
  },
  {
   "cell_type": "code",
   "execution_count": 185,
   "id": "9744d6e7",
   "metadata": {},
   "outputs": [
    {
     "data": {
      "text/plain": [
       "1.0"
      ]
     },
     "execution_count": 185,
     "metadata": {},
     "output_type": "execute_result"
    }
   ],
   "source": [
    "clf = LogisticRegression(random_state=1234)\n",
    "y_pred_lr = clf.fit(X_train_pca, y_train).predict(X_test_pca)\n",
    "accuracy_score(y_test, y_pred_lr)"
   ]
  },
  {
   "cell_type": "markdown",
   "id": "ef47da91",
   "metadata": {},
   "source": [
    "## Knn"
   ]
  },
  {
   "cell_type": "code",
   "execution_count": 186,
   "id": "0561e6b3",
   "metadata": {},
   "outputs": [],
   "source": [
    "knn_scores = {}\n",
    "for i in range(2, 20):\n",
    "    \n",
    "    pred = KNeighborsClassifier(n_neighbors=i).fit(X_train_pca, y_train).predict(X_test_pca)\n",
    "    knn_scores[i] = accuracy_score(y_test, pred)"
   ]
  },
  {
   "cell_type": "code",
   "execution_count": 187,
   "id": "f93880cb",
   "metadata": {},
   "outputs": [
    {
     "data": {
      "text/plain": [
       "{2: 0.9705882352941176,\n",
       " 3: 1.0,\n",
       " 4: 0.9705882352941176,\n",
       " 5: 0.9705882352941176,\n",
       " 6: 0.9705882352941176,\n",
       " 7: 0.9705882352941176,\n",
       " 8: 0.9705882352941176,\n",
       " 9: 0.9705882352941176,\n",
       " 10: 0.9705882352941176,\n",
       " 11: 0.9705882352941176,\n",
       " 12: 0.9705882352941176,\n",
       " 13: 0.9705882352941176,\n",
       " 14: 0.9705882352941176,\n",
       " 15: 0.9705882352941176,\n",
       " 16: 0.9705882352941176,\n",
       " 17: 0.9705882352941176,\n",
       " 18: 0.9705882352941176,\n",
       " 19: 0.9705882352941176}"
      ]
     },
     "execution_count": 187,
     "metadata": {},
     "output_type": "execute_result"
    }
   ],
   "source": [
    "knn_scores"
   ]
  },
  {
   "cell_type": "code",
   "execution_count": 189,
   "id": "49af46fe",
   "metadata": {},
   "outputs": [],
   "source": [
    "clfit_gnb = gnb.fit(X_train_pca, y_train)\n",
    "clfit_lr = clf.fit(X_train_pca, y_train)\n",
    "clfit_knn = KNeighborsClassifier(n_neighbors=3).fit(X_train_pca, y_train)"
   ]
  },
  {
   "cell_type": "code",
   "execution_count": 201,
   "id": "c0f01441",
   "metadata": {},
   "outputs": [
    {
     "data": {
      "image/png": "[encoded data removed]",
      "text/plain": [
       "<Figure size 720x576 with 4 Axes>"
      ]
     },
     "metadata": {
      "needs_background": "light"
     },
     "output_type": "display_data"
    }
   ],
   "source": [
    "\n",
    "# Plotting decision regions\n",
    "x_min, x_max = X_test_pca[:, 0].min() - 1, X_test_pca[:, 0].max() + 1\n",
    "y_min, y_max = X_test_pca[:, 1].min() - 1, X_test_pca[:, 1].max() + 1\n",
    "xx, yy = np.meshgrid(np.arange(x_min, x_max, 0.1), np.arange(y_min, y_max, 0.1))\n",
    "\n",
    "f, axarr = plt.subplots(2, 2, sharex=\"col\", sharey=\"row\", figsize=(10, 8))\n",
    "\n",
    "for idx, clf, tt in zip(\n",
    "    product([0, 1], [0, 1]),\n",
    "    [clfit_gnb, clfit_lr, clfit_knn],\n",
    "    [\"Naive Bayes\", \"Logistic Regression\", \"KNN (n=3)\"],\n",
    "):\n",
    "\n",
    "    Z = clf.predict(np.c_[xx.ravel(), yy.ravel()])\n",
    "    Z = Z.reshape(xx.shape)\n",
    "\n",
    "    axarr[idx[0], idx[1]].contourf(xx, yy, Z, alpha=0.4)\n",
    "    axarr[idx[0], idx[1]].scatter(X_test_pca[:, 0], X_test_pca[:, 1], c=y_test, s=20, edgecolor=\"k\")\n",
    "    axarr[idx[0], idx[1]].set_title(tt)\n",
    "\n",
    "plt.show()"
   ]
  },
  {
   "cell_type": "code",
   "execution_count": 202,
   "id": "8627c359",
   "metadata": {},
   "outputs": [
    {
     "data": {
      "text/plain": [
       "<Figure size 432x288 with 0 Axes>"
      ]
     },
     "metadata": {},
     "output_type": "display_data"
    }
   ],
   "source": [
    "plt.savefig(\"img/q2_part1_b.png\")"
   ]
  },
  {
   "cell_type": "markdown",
   "id": "daf8cc56",
   "metadata": {},
   "source": [
    "--- \n",
    "\n",
    "# Part 2\n",
    "\n",
    "\n"
   ]
  },
  {
   "cell_type": "code",
   "execution_count": 2,
   "id": "ac482e37",
   "metadata": {},
   "outputs": [],
   "source": [
    "def reports(truth, pred):\n",
    "    print(\"Confusion Matrix:\")\n",
    "    print(pd.DataFrame(confusion_matrix(truth, pred), index = [x for x in range(10)]))\n",
    "    print(\"\\nScores:\")\n",
    "    print(classification_report(truth, pred))"
   ]
  },
  {
   "cell_type": "code",
   "execution_count": 3,
   "id": "bd070ff8",
   "metadata": {},
   "outputs": [
    {
     "data": {
      "text/plain": [
       "{'__header__': b'MATLAB 5.0 MAT-file Platform: posix, Created on: Tue Oct 13 20:00:03 2020',\n",
       " '__version__': '1.0',\n",
       " '__globals__': [],\n",
       " 'xtrain': array([[0, 0, 0, ..., 0, 0, 0],\n",
       "        [0, 0, 0, ..., 0, 0, 0],\n",
       "        [0, 0, 0, ..., 0, 0, 0],\n",
       "        ...,\n",
       "        [0, 0, 0, ..., 0, 0, 0],\n",
       "        [0, 0, 0, ..., 0, 0, 0],\n",
       "        [0, 0, 0, ..., 0, 0, 0]], dtype=uint8),\n",
       " 'ytrain': array([[5, 0, 4, ..., 5, 6, 8]]),\n",
       " 'xtest': array([[0, 0, 0, ..., 0, 0, 0],\n",
       "        [0, 0, 0, ..., 0, 0, 0],\n",
       "        [0, 0, 0, ..., 0, 0, 0],\n",
       "        ...,\n",
       "        [0, 0, 0, ..., 0, 0, 0],\n",
       "        [0, 0, 0, ..., 0, 0, 0],\n",
       "        [0, 0, 0, ..., 0, 0, 0]], dtype=uint8),\n",
       " 'ytest': array([[7, 2, 1, ..., 4, 5, 6]])}"
      ]
     },
     "execution_count": 3,
     "metadata": {},
     "output_type": "execute_result"
    }
   ],
   "source": [
    "numbers = loadmat('data/mnist_10digits.mat')\n",
    "numbers"
   ]
  },
  {
   "cell_type": "code",
   "execution_count": 4,
   "id": "5709991a",
   "metadata": {},
   "outputs": [],
   "source": [
    "xtrain = numbers['xtrain'] / 255\n",
    "ytrain = numbers['ytrain'].T \n",
    "xtest = numbers['xtest'] / 255\n",
    "ytest = numbers['ytest'].T"
   ]
  },
  {
   "cell_type": "markdown",
   "id": "0cde0ae8",
   "metadata": {},
   "source": [
    "## KNN"
   ]
  },
  {
   "cell_type": "code",
   "execution_count": 5,
   "id": "2445408a",
   "metadata": {},
   "outputs": [],
   "source": [
    "np.random.seed(6740)\n",
    "dsidx = np.random.randint(10000, size=50000)"
   ]
  },
  {
   "cell_type": "code",
   "execution_count": 6,
   "id": "18e8db9e",
   "metadata": {},
   "outputs": [
    {
     "name": "stdout",
     "output_type": "stream",
     "text": [
      "(60000, 784)\n",
      "(60000, 1)\n",
      "(10000, 784)\n",
      "(10000, 1)\n"
     ]
    }
   ],
   "source": [
    "print(xtrain.shape)\n",
    "print(ytrain.shape)\n",
    "print(xtest.shape)\n",
    "print(ytest.shape)"
   ]
  },
  {
   "cell_type": "code",
   "execution_count": 238,
   "id": "46c067f0",
   "metadata": {},
   "outputs": [
    {
     "name": "stdout",
     "output_type": "stream",
     "text": [
      "2\n"
     ]
    },
    {
     "name": "stderr",
     "output_type": "stream",
     "text": [
      "/opt/homebrew/lib/python3.9/site-packages/sklearn/neighbors/_classification.py:198: DataConversionWarning: A column-vector y was passed when a 1d array was expected. Please change the shape of y to (n_samples,), for example using ravel().\n",
      "  return self._fit(X, y)\n"
     ]
    },
    {
     "name": "stdout",
     "output_type": "stream",
     "text": [
      "3\n"
     ]
    },
    {
     "name": "stderr",
     "output_type": "stream",
     "text": [
      "/opt/homebrew/lib/python3.9/site-packages/sklearn/neighbors/_classification.py:198: DataConversionWarning: A column-vector y was passed when a 1d array was expected. Please change the shape of y to (n_samples,), for example using ravel().\n",
      "  return self._fit(X, y)\n"
     ]
    },
    {
     "name": "stdout",
     "output_type": "stream",
     "text": [
      "4\n"
     ]
    },
    {
     "name": "stderr",
     "output_type": "stream",
     "text": [
      "/opt/homebrew/lib/python3.9/site-packages/sklearn/neighbors/_classification.py:198: DataConversionWarning: A column-vector y was passed when a 1d array was expected. Please change the shape of y to (n_samples,), for example using ravel().\n",
      "  return self._fit(X, y)\n"
     ]
    },
    {
     "name": "stdout",
     "output_type": "stream",
     "text": [
      "5\n"
     ]
    },
    {
     "name": "stderr",
     "output_type": "stream",
     "text": [
      "/opt/homebrew/lib/python3.9/site-packages/sklearn/neighbors/_classification.py:198: DataConversionWarning: A column-vector y was passed when a 1d array was expected. Please change the shape of y to (n_samples,), for example using ravel().\n",
      "  return self._fit(X, y)\n"
     ]
    },
    {
     "name": "stdout",
     "output_type": "stream",
     "text": [
      "6\n"
     ]
    },
    {
     "name": "stderr",
     "output_type": "stream",
     "text": [
      "/opt/homebrew/lib/python3.9/site-packages/sklearn/neighbors/_classification.py:198: DataConversionWarning: A column-vector y was passed when a 1d array was expected. Please change the shape of y to (n_samples,), for example using ravel().\n",
      "  return self._fit(X, y)\n"
     ]
    },
    {
     "name": "stdout",
     "output_type": "stream",
     "text": [
      "7\n"
     ]
    },
    {
     "name": "stderr",
     "output_type": "stream",
     "text": [
      "/opt/homebrew/lib/python3.9/site-packages/sklearn/neighbors/_classification.py:198: DataConversionWarning: A column-vector y was passed when a 1d array was expected. Please change the shape of y to (n_samples,), for example using ravel().\n",
      "  return self._fit(X, y)\n"
     ]
    },
    {
     "name": "stdout",
     "output_type": "stream",
     "text": [
      "8\n"
     ]
    },
    {
     "name": "stderr",
     "output_type": "stream",
     "text": [
      "/opt/homebrew/lib/python3.9/site-packages/sklearn/neighbors/_classification.py:198: DataConversionWarning: A column-vector y was passed when a 1d array was expected. Please change the shape of y to (n_samples,), for example using ravel().\n",
      "  return self._fit(X, y)\n"
     ]
    },
    {
     "name": "stdout",
     "output_type": "stream",
     "text": [
      "9\n"
     ]
    },
    {
     "name": "stderr",
     "output_type": "stream",
     "text": [
      "/opt/homebrew/lib/python3.9/site-packages/sklearn/neighbors/_classification.py:198: DataConversionWarning: A column-vector y was passed when a 1d array was expected. Please change the shape of y to (n_samples,), for example using ravel().\n",
      "  return self._fit(X, y)\n"
     ]
    }
   ],
   "source": [
    "number_knn_scores = {}\n",
    "for i in range(2, 10, 1):\n",
    "    print(i)\n",
    "    pred = KNeighborsClassifier(n_neighbors=i).fit(xtrain[dsidx, :], ytrain[dsidx]).predict(xtest)\n",
    "    number_knn_scores[i] = accuracy_score(ytest, pred)"
   ]
  },
  {
   "cell_type": "code",
   "execution_count": 239,
   "id": "2ff887dc",
   "metadata": {},
   "outputs": [
    {
     "data": {
      "text/html": [
       "<div>\n",
       "<style scoped>\n",
       "    .dataframe tbody tr th:only-of-type {\n",
       "        vertical-align: middle;\n",
       "    }\n",
       "\n",
       "    .dataframe tbody tr th {\n",
       "        vertical-align: top;\n",
       "    }\n",
       "\n",
       "    .dataframe thead th {\n",
       "        text-align: right;\n",
       "    }\n",
       "</style>\n",
       "<table border=\"1\" class=\"dataframe\">\n",
       "  <thead>\n",
       "    <tr style=\"text-align: right;\">\n",
       "      <th></th>\n",
       "      <th>2</th>\n",
       "      <th>3</th>\n",
       "      <th>4</th>\n",
       "      <th>5</th>\n",
       "      <th>6</th>\n",
       "      <th>7</th>\n",
       "      <th>8</th>\n",
       "      <th>9</th>\n",
       "    </tr>\n",
       "  </thead>\n",
       "  <tbody>\n",
       "    <tr>\n",
       "      <th>2</th>\n",
       "      <td>0.9455</td>\n",
       "      <td>0.9458</td>\n",
       "      <td>0.9452</td>\n",
       "      <td>0.9449</td>\n",
       "      <td>0.9434</td>\n",
       "      <td>0.943</td>\n",
       "      <td>0.9403</td>\n",
       "      <td>0.9401</td>\n",
       "    </tr>\n",
       "    <tr>\n",
       "      <th>3</th>\n",
       "      <td>0.9455</td>\n",
       "      <td>0.9458</td>\n",
       "      <td>0.9452</td>\n",
       "      <td>0.9449</td>\n",
       "      <td>0.9434</td>\n",
       "      <td>0.943</td>\n",
       "      <td>0.9403</td>\n",
       "      <td>0.9401</td>\n",
       "    </tr>\n",
       "    <tr>\n",
       "      <th>4</th>\n",
       "      <td>0.9455</td>\n",
       "      <td>0.9458</td>\n",
       "      <td>0.9452</td>\n",
       "      <td>0.9449</td>\n",
       "      <td>0.9434</td>\n",
       "      <td>0.943</td>\n",
       "      <td>0.9403</td>\n",
       "      <td>0.9401</td>\n",
       "    </tr>\n",
       "    <tr>\n",
       "      <th>5</th>\n",
       "      <td>0.9455</td>\n",
       "      <td>0.9458</td>\n",
       "      <td>0.9452</td>\n",
       "      <td>0.9449</td>\n",
       "      <td>0.9434</td>\n",
       "      <td>0.943</td>\n",
       "      <td>0.9403</td>\n",
       "      <td>0.9401</td>\n",
       "    </tr>\n",
       "    <tr>\n",
       "      <th>6</th>\n",
       "      <td>0.9455</td>\n",
       "      <td>0.9458</td>\n",
       "      <td>0.9452</td>\n",
       "      <td>0.9449</td>\n",
       "      <td>0.9434</td>\n",
       "      <td>0.943</td>\n",
       "      <td>0.9403</td>\n",
       "      <td>0.9401</td>\n",
       "    </tr>\n",
       "    <tr>\n",
       "      <th>7</th>\n",
       "      <td>0.9455</td>\n",
       "      <td>0.9458</td>\n",
       "      <td>0.9452</td>\n",
       "      <td>0.9449</td>\n",
       "      <td>0.9434</td>\n",
       "      <td>0.943</td>\n",
       "      <td>0.9403</td>\n",
       "      <td>0.9401</td>\n",
       "    </tr>\n",
       "    <tr>\n",
       "      <th>8</th>\n",
       "      <td>0.9455</td>\n",
       "      <td>0.9458</td>\n",
       "      <td>0.9452</td>\n",
       "      <td>0.9449</td>\n",
       "      <td>0.9434</td>\n",
       "      <td>0.943</td>\n",
       "      <td>0.9403</td>\n",
       "      <td>0.9401</td>\n",
       "    </tr>\n",
       "    <tr>\n",
       "      <th>9</th>\n",
       "      <td>0.9455</td>\n",
       "      <td>0.9458</td>\n",
       "      <td>0.9452</td>\n",
       "      <td>0.9449</td>\n",
       "      <td>0.9434</td>\n",
       "      <td>0.943</td>\n",
       "      <td>0.9403</td>\n",
       "      <td>0.9401</td>\n",
       "    </tr>\n",
       "  </tbody>\n",
       "</table>\n",
       "</div>"
      ],
      "text/plain": [
       "        2       3       4       5       6      7       8       9\n",
       "2  0.9455  0.9458  0.9452  0.9449  0.9434  0.943  0.9403  0.9401\n",
       "3  0.9455  0.9458  0.9452  0.9449  0.9434  0.943  0.9403  0.9401\n",
       "4  0.9455  0.9458  0.9452  0.9449  0.9434  0.943  0.9403  0.9401\n",
       "5  0.9455  0.9458  0.9452  0.9449  0.9434  0.943  0.9403  0.9401\n",
       "6  0.9455  0.9458  0.9452  0.9449  0.9434  0.943  0.9403  0.9401\n",
       "7  0.9455  0.9458  0.9452  0.9449  0.9434  0.943  0.9403  0.9401\n",
       "8  0.9455  0.9458  0.9452  0.9449  0.9434  0.943  0.9403  0.9401\n",
       "9  0.9455  0.9458  0.9452  0.9449  0.9434  0.943  0.9403  0.9401"
      ]
     },
     "execution_count": 239,
     "metadata": {},
     "output_type": "execute_result"
    }
   ],
   "source": [
    "pd.DataFrame(number_knn_scores, index = [x for x in range(2, 10, 1)])"
   ]
  },
  {
   "cell_type": "code",
   "execution_count": 7,
   "id": "7f948492",
   "metadata": {},
   "outputs": [
    {
     "name": "stderr",
     "output_type": "stream",
     "text": [
      "/opt/homebrew/lib/python3.9/site-packages/sklearn/neighbors/_classification.py:198: DataConversionWarning: A column-vector y was passed when a 1d array was expected. Please change the shape of y to (n_samples,), for example using ravel().\n",
      "  return self._fit(X, y)\n"
     ]
    }
   ],
   "source": [
    "knn = KNeighborsClassifier(n_neighbors=3).fit(xtrain[dsidx, :], ytrain[dsidx])\n",
    "\n",
    "\n",
    "knn_pred = knn.predict(xtest)"
   ]
  },
  {
   "cell_type": "code",
   "execution_count": 31,
   "id": "0152cbbb",
   "metadata": {},
   "outputs": [
    {
     "name": "stdout",
     "output_type": "stream",
     "text": [
      "KNN\n",
      "Confusion Matrix:\n",
      "     0     1    2    3    4    5    6    7    8    9\n",
      "0  971     1    1    0    0    1    4    1    1    0\n",
      "1    0  1130    1    2    0    0    2    0    0    0\n",
      "2   15    14  960   10    1    1    3   23    5    0\n",
      "3    1     1    4  943    1   25    3   12    9   11\n",
      "4    0    12    0    0  916    0    8    6    2   38\n",
      "5    8     4    0   27    3  830   10    2    2    6\n",
      "6    9     4    0    0    3    3  938    0    1    0\n",
      "7    0    26    8    1    4    1    0  970    1   17\n",
      "8    9     5    8   32    4   21    8    8  860   19\n",
      "9    6     6    3    7   20    3    2   17    5  940\n",
      "\n",
      "Scores:\n",
      "              precision    recall  f1-score   support\n",
      "\n",
      "           0       0.95      0.99      0.97       980\n",
      "           1       0.94      1.00      0.97      1135\n",
      "           2       0.97      0.93      0.95      1032\n",
      "           3       0.92      0.93      0.93      1010\n",
      "           4       0.96      0.93      0.95       982\n",
      "           5       0.94      0.93      0.93       892\n",
      "           6       0.96      0.98      0.97       958\n",
      "           7       0.93      0.94      0.94      1028\n",
      "           8       0.97      0.88      0.92       974\n",
      "           9       0.91      0.93      0.92      1009\n",
      "\n",
      "    accuracy                           0.95     10000\n",
      "   macro avg       0.95      0.95      0.95     10000\n",
      "weighted avg       0.95      0.95      0.95     10000\n",
      "\n"
     ]
    }
   ],
   "source": [
    "print(\"KNN\")\n",
    "reports(ytest, knn_pred)"
   ]
  },
  {
   "cell_type": "markdown",
   "id": "0288c6fb",
   "metadata": {},
   "source": [
    "## Logistic Regression"
   ]
  },
  {
   "cell_type": "code",
   "execution_count": 35,
   "id": "0b3ada24",
   "metadata": {},
   "outputs": [
    {
     "name": "stderr",
     "output_type": "stream",
     "text": [
      "/opt/homebrew/lib/python3.9/site-packages/sklearn/utils/validation.py:985: DataConversionWarning: A column-vector y was passed when a 1d array was expected. Please change the shape of y to (n_samples, ), for example using ravel().\n",
      "  y = column_or_1d(y, warn=True)\n"
     ]
    }
   ],
   "source": [
    "clf = LogisticRegression(random_state=6740, max_iter=1000)\n",
    "lr_pred = clf.fit(xtrain, ytrain).predict(xtest)"
   ]
  },
  {
   "cell_type": "code",
   "execution_count": 37,
   "id": "1e27c0d7",
   "metadata": {},
   "outputs": [
    {
     "name": "stdout",
     "output_type": "stream",
     "text": [
      "LOGISTIC REGRESSION\n",
      "Confusion Matrix:\n",
      "     0     1    2    3    4    5    6    7    8    9\n",
      "0  955     0    2    4    1   10    4    3    1    0\n",
      "1    0  1110    5    2    0    2    3    2   11    0\n",
      "2    6     9  930   14   10    3   12   10   34    4\n",
      "3    4     1   16  925    1   23    2   10   19    9\n",
      "4    1     3    7    3  921    0    6    5    6   30\n",
      "5    9     2    3   35   10  777   15    6   31    4\n",
      "6    8     3    8    2    6   16  912    2    1    0\n",
      "7    1     7   23    7    6    1    0  947    4   32\n",
      "8    9    11    6   22    7   29   13   10  855   12\n",
      "9    9     8    1    9   21    7    0   21    9  924\n",
      "\n",
      "Scores:\n",
      "              precision    recall  f1-score   support\n",
      "\n",
      "           0       0.95      0.97      0.96       980\n",
      "           1       0.96      0.98      0.97      1135\n",
      "           2       0.93      0.90      0.91      1032\n",
      "           3       0.90      0.92      0.91      1010\n",
      "           4       0.94      0.94      0.94       982\n",
      "           5       0.90      0.87      0.88       892\n",
      "           6       0.94      0.95      0.95       958\n",
      "           7       0.93      0.92      0.93      1028\n",
      "           8       0.88      0.88      0.88       974\n",
      "           9       0.91      0.92      0.91      1009\n",
      "\n",
      "    accuracy                           0.93     10000\n",
      "   macro avg       0.92      0.92      0.92     10000\n",
      "weighted avg       0.93      0.93      0.93     10000\n",
      "\n"
     ]
    }
   ],
   "source": [
    "print(\"LOGISTIC REGRESSION\")\n",
    "reports(ytest, lr_pred)"
   ]
  },
  {
   "cell_type": "markdown",
   "id": "c95a6adf",
   "metadata": {},
   "source": [
    "## Linear SVM"
   ]
  },
  {
   "cell_type": "code",
   "execution_count": 19,
   "id": "ea896bcc",
   "metadata": {},
   "outputs": [
    {
     "name": "stderr",
     "output_type": "stream",
     "text": [
      "/opt/homebrew/lib/python3.9/site-packages/sklearn/utils/validation.py:985: DataConversionWarning: A column-vector y was passed when a 1d array was expected. Please change the shape of y to (n_samples, ), for example using ravel().\n",
      "  y = column_or_1d(y, warn=True)\n"
     ]
    }
   ],
   "source": [
    "svm = SVC(kernel='linear').fit(xtrain[dsidx, :], ytrain[dsidx])\n",
    "\n",
    "svm_pred = svm.predict(xtest)"
   ]
  },
  {
   "cell_type": "code",
   "execution_count": 32,
   "id": "df3af1e6",
   "metadata": {},
   "outputs": [
    {
     "name": "stdout",
     "output_type": "stream",
     "text": [
      "LINEAR SVM\n",
      "Confusion Matrix:\n",
      "     0     1    2    3    4    5    6    7    8    9\n",
      "0  954     0    7    1    0    6    8    2    1    1\n",
      "1    0  1120    1    2    1    1    4    1    5    0\n",
      "2   10    11  926   11   11    4   14   11   31    3\n",
      "3    3     3   27  904    2   24    2   10   26    9\n",
      "4    2     2   10    0  926    0    5    5    2   30\n",
      "5   12     5    7   62    9  748   15    1   27    6\n",
      "6   11     3   11    0   10   13  907    0    2    1\n",
      "7    2     9   23   14   10    0    0  937    4   29\n",
      "8    7    17   10   41    9   34   11    6  829   10\n",
      "9    8     7    1   16   58    5    1   41    5  867\n",
      "\n",
      "Scores:\n",
      "              precision    recall  f1-score   support\n",
      "\n",
      "           0       0.95      0.97      0.96       980\n",
      "           1       0.95      0.99      0.97      1135\n",
      "           2       0.91      0.90      0.90      1032\n",
      "           3       0.86      0.90      0.88      1010\n",
      "           4       0.89      0.94      0.92       982\n",
      "           5       0.90      0.84      0.87       892\n",
      "           6       0.94      0.95      0.94       958\n",
      "           7       0.92      0.91      0.92      1028\n",
      "           8       0.89      0.85      0.87       974\n",
      "           9       0.91      0.86      0.88      1009\n",
      "\n",
      "    accuracy                           0.91     10000\n",
      "   macro avg       0.91      0.91      0.91     10000\n",
      "weighted avg       0.91      0.91      0.91     10000\n",
      "\n"
     ]
    }
   ],
   "source": [
    "print(\"LINEAR SVM\")\n",
    "reports(ytest, svm_pred)"
   ]
  },
  {
   "cell_type": "markdown",
   "id": "9868bc7c",
   "metadata": {},
   "source": [
    "## Kernel SVM"
   ]
  },
  {
   "cell_type": "code",
   "execution_count": 21,
   "id": "c814a9dc",
   "metadata": {},
   "outputs": [
    {
     "name": "stderr",
     "output_type": "stream",
     "text": [
      "/opt/homebrew/lib/python3.9/site-packages/sklearn/utils/validation.py:985: DataConversionWarning: A column-vector y was passed when a 1d array was expected. Please change the shape of y to (n_samples, ), for example using ravel().\n",
      "  y = column_or_1d(y, warn=True)\n"
     ]
    }
   ],
   "source": [
    "svm = SVC().fit(xtrain[dsidx, :], ytrain[dsidx])\n",
    "\n",
    "rbf_svm_pred = svm.predict(xtest)"
   ]
  },
  {
   "cell_type": "code",
   "execution_count": 33,
   "id": "d773a281",
   "metadata": {},
   "outputs": [
    {
     "name": "stdout",
     "output_type": "stream",
     "text": [
      "KERNEL SVM\n",
      "Confusion Matrix:\n",
      "     0     1     2    3    4    5    6    7    8    9\n",
      "0  969     0     2    0    0    2    4    1    2    0\n",
      "1    0  1124     2    1    0    1    4    1    2    0\n",
      "2    5     0  1000    2    3    0    5    9    5    3\n",
      "3    1     0    15  970    1    7    1    7    4    4\n",
      "4    1     1     4    0  950    0    7    1    1   17\n",
      "5    7     1     1   17    2  850    6    1    5    2\n",
      "6    6     3     2    0    4    3  937    0    3    0\n",
      "7    0    13    18    5    5    0    0  974    0   13\n",
      "8    3     1     3    8    6    7    0    3  939    4\n",
      "9    5     5     1   10   15    3    0   11    8  951\n",
      "\n",
      "Scores:\n",
      "              precision    recall  f1-score   support\n",
      "\n",
      "           0       0.97      0.99      0.98       980\n",
      "           1       0.98      0.99      0.98      1135\n",
      "           2       0.95      0.97      0.96      1032\n",
      "           3       0.96      0.96      0.96      1010\n",
      "           4       0.96      0.97      0.97       982\n",
      "           5       0.97      0.95      0.96       892\n",
      "           6       0.97      0.98      0.98       958\n",
      "           7       0.97      0.95      0.96      1028\n",
      "           8       0.97      0.96      0.97       974\n",
      "           9       0.96      0.94      0.95      1009\n",
      "\n",
      "    accuracy                           0.97     10000\n",
      "   macro avg       0.97      0.97      0.97     10000\n",
      "weighted avg       0.97      0.97      0.97     10000\n",
      "\n"
     ]
    }
   ],
   "source": [
    "print(\"KERNEL SVM\")\n",
    "reports(ytest, rbf_svm_pred)"
   ]
  },
  {
   "cell_type": "markdown",
   "id": "7c60668a",
   "metadata": {},
   "source": [
    "## Neural Network"
   ]
  },
  {
   "cell_type": "code",
   "execution_count": 26,
   "id": "9fc264ec",
   "metadata": {},
   "outputs": [
    {
     "name": "stderr",
     "output_type": "stream",
     "text": [
      "/opt/homebrew/lib/python3.9/site-packages/sklearn/neural_network/_multilayer_perceptron.py:1109: DataConversionWarning: A column-vector y was passed when a 1d array was expected. Please change the shape of y to (n_samples, ), for example using ravel().\n",
      "  y = column_or_1d(y, warn=True)\n"
     ]
    }
   ],
   "source": [
    "clf_nn = MLPClassifier(hidden_layer_sizes = (20, 10), random_state=6740, max_iter=1000).fit(xtrain, ytrain)"
   ]
  },
  {
   "cell_type": "code",
   "execution_count": 27,
   "id": "c40c9ccf",
   "metadata": {},
   "outputs": [],
   "source": [
    "nn_pred = clf_nn.predict(xtest)"
   ]
  },
  {
   "cell_type": "code",
   "execution_count": 34,
   "id": "e3ddf44c",
   "metadata": {},
   "outputs": [
    {
     "name": "stdout",
     "output_type": "stream",
     "text": [
      "NEURAL NETWORK\n",
      "Confusion Matrix:\n",
      "     0     1    2    3    4    5    6    7    8    9\n",
      "0  949     0    1    1    5    4    7    5    5    3\n",
      "1    0  1117    2    3    0    2    4    2    5    0\n",
      "2    6     4  968   18    5    3    5   12   10    1\n",
      "3    6     6   13  934    0   12    2   14   18    5\n",
      "4    1     0    4    2  946    3    3    2    3   18\n",
      "5    3     1    0   25    1  836   14    1    9    2\n",
      "6    6     5    6    1    3    8  921    1    7    0\n",
      "7    3     6   12   13    1    4    1  969    6   13\n",
      "8    9     7    2   18   11    9   11    6  888   13\n",
      "9    7     3    3   12   19    1    1    5    8  950\n",
      "\n",
      "Scores:\n",
      "              precision    recall  f1-score   support\n",
      "\n",
      "           0       0.96      0.97      0.96       980\n",
      "           1       0.97      0.98      0.98      1135\n",
      "           2       0.96      0.94      0.95      1032\n",
      "           3       0.91      0.92      0.92      1010\n",
      "           4       0.95      0.96      0.96       982\n",
      "           5       0.95      0.94      0.94       892\n",
      "           6       0.95      0.96      0.96       958\n",
      "           7       0.95      0.94      0.95      1028\n",
      "           8       0.93      0.91      0.92       974\n",
      "           9       0.95      0.94      0.94      1009\n",
      "\n",
      "    accuracy                           0.95     10000\n",
      "   macro avg       0.95      0.95      0.95     10000\n",
      "weighted avg       0.95      0.95      0.95     10000\n",
      "\n"
     ]
    }
   ],
   "source": [
    "print(\"NEURAL NETWORK\")\n",
    "reports(ytest, nn_pred)"
   ]
  },
  {
   "cell_type": "code",
   "execution_count": null,
   "id": "8f792ea9",
   "metadata": {},
   "outputs": [],
   "source": []
  }
 ],
 "metadata": {
  "kernelspec": {
   "display_name": "Python 3 (ipykernel)",
   "language": "python",
   "name": "python3"
  },
  "language_info": {
   "codemirror_mode": {
    "name": "ipython",
    "version": 3
   },
   "file_extension": ".py",
   "mimetype": "text/x-python",
   "name": "python",
   "nbconvert_exporter": "python",
   "pygments_lexer": "ipython3",
   "version": "3.9.9"
  }
 },
 "nbformat": 4,
 "nbformat_minor": 5
}

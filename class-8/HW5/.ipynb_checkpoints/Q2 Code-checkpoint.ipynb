{
 "cells": [
  {
   "cell_type": "code",
   "execution_count": 3,
   "id": "35da5063",
   "metadata": {},
   "outputs": [],
   "source": [
    "import pandas as pd\n",
    "import numpy as np\n",
    "\n",
    "from sklearn.preprocessing import OneHotEncoder\n",
    "from sklearn.preprocessing import StandardScaler\n",
    "from sklearn.preprocessing import MinMaxScaler\n",
    "from sklearn.model_selection import train_test_split\n",
    "\n",
    "from sklearn.linear_model import RidgeCV\n",
    "from sklearn.linear_model import LassoCV\n",
    "from sklearn.linear_model import Lasso\n",
    "\n",
    "import matplotlib.pyplot as plt\n",
    "import seaborn as sns\n",
    "\n",
    "from sklearn.model_selection import cross_val_score\n",
    "from sklearn.model_selection import KFold\n",
    "from sklearn.linear_model import Ridge"
   ]
  },
  {
   "cell_type": "code",
   "execution_count": 4,
   "id": "3a822627",
   "metadata": {},
   "outputs": [],
   "source": [
    "df = pd.read_csv(\"data/RealEstate.csv\")"
   ]
  },
  {
   "cell_type": "code",
   "execution_count": 5,
   "id": "ea0c7a25",
   "metadata": {},
   "outputs": [
    {
     "data": {
      "text/html": [
       "<div>\n",
       "<style scoped>\n",
       "    .dataframe tbody tr th:only-of-type {\n",
       "        vertical-align: middle;\n",
       "    }\n",
       "\n",
       "    .dataframe tbody tr th {\n",
       "        vertical-align: top;\n",
       "    }\n",
       "\n",
       "    .dataframe thead th {\n",
       "        text-align: right;\n",
       "    }\n",
       "</style>\n",
       "<table border=\"1\" class=\"dataframe\">\n",
       "  <thead>\n",
       "    <tr style=\"text-align: right;\">\n",
       "      <th></th>\n",
       "      <th>MLS</th>\n",
       "      <th>Location</th>\n",
       "      <th>Price</th>\n",
       "      <th>Bedrooms</th>\n",
       "      <th>Bathrooms</th>\n",
       "      <th>Size</th>\n",
       "      <th>Price/SQ.Ft</th>\n",
       "      <th>Status</th>\n",
       "    </tr>\n",
       "  </thead>\n",
       "  <tbody>\n",
       "    <tr>\n",
       "      <th>0</th>\n",
       "      <td>132842</td>\n",
       "      <td>Arroyo Grande</td>\n",
       "      <td>795000.0</td>\n",
       "      <td>3</td>\n",
       "      <td>3</td>\n",
       "      <td>2371</td>\n",
       "      <td>335.30</td>\n",
       "      <td>Short Sale</td>\n",
       "    </tr>\n",
       "    <tr>\n",
       "      <th>1</th>\n",
       "      <td>134364</td>\n",
       "      <td>Paso Robles</td>\n",
       "      <td>399000.0</td>\n",
       "      <td>4</td>\n",
       "      <td>3</td>\n",
       "      <td>2818</td>\n",
       "      <td>141.59</td>\n",
       "      <td>Short Sale</td>\n",
       "    </tr>\n",
       "    <tr>\n",
       "      <th>2</th>\n",
       "      <td>135141</td>\n",
       "      <td>Paso Robles</td>\n",
       "      <td>545000.0</td>\n",
       "      <td>4</td>\n",
       "      <td>3</td>\n",
       "      <td>3032</td>\n",
       "      <td>179.75</td>\n",
       "      <td>Short Sale</td>\n",
       "    </tr>\n",
       "    <tr>\n",
       "      <th>3</th>\n",
       "      <td>135712</td>\n",
       "      <td>Morro Bay</td>\n",
       "      <td>909000.0</td>\n",
       "      <td>4</td>\n",
       "      <td>4</td>\n",
       "      <td>3540</td>\n",
       "      <td>256.78</td>\n",
       "      <td>Short Sale</td>\n",
       "    </tr>\n",
       "    <tr>\n",
       "      <th>4</th>\n",
       "      <td>136282</td>\n",
       "      <td>Santa Maria-Orcutt</td>\n",
       "      <td>109900.0</td>\n",
       "      <td>3</td>\n",
       "      <td>1</td>\n",
       "      <td>1249</td>\n",
       "      <td>87.99</td>\n",
       "      <td>Short Sale</td>\n",
       "    </tr>\n",
       "  </tbody>\n",
       "</table>\n",
       "</div>"
      ],
      "text/plain": [
       "      MLS            Location     Price  Bedrooms  Bathrooms  Size  \\\n",
       "0  132842       Arroyo Grande  795000.0         3          3  2371   \n",
       "1  134364         Paso Robles  399000.0         4          3  2818   \n",
       "2  135141         Paso Robles  545000.0         4          3  3032   \n",
       "3  135712           Morro Bay  909000.0         4          4  3540   \n",
       "4  136282  Santa Maria-Orcutt  109900.0         3          1  1249   \n",
       "\n",
       "   Price/SQ.Ft      Status  \n",
       "0       335.30  Short Sale  \n",
       "1       141.59  Short Sale  \n",
       "2       179.75  Short Sale  \n",
       "3       256.78  Short Sale  \n",
       "4        87.99  Short Sale  "
      ]
     },
     "execution_count": 5,
     "metadata": {},
     "output_type": "execute_result"
    }
   ],
   "source": [
    "df.head()"
   ]
  },
  {
   "cell_type": "code",
   "execution_count": 6,
   "id": "790cdaa3",
   "metadata": {},
   "outputs": [
    {
     "data": {
      "text/plain": [
       "Short Sale     516\n",
       "Foreclosure    162\n",
       "Regular        103\n",
       "Name: Status, dtype: int64"
      ]
     },
     "execution_count": 6,
     "metadata": {},
     "output_type": "execute_result"
    }
   ],
   "source": [
    "df['Status'].value_counts()"
   ]
  },
  {
   "cell_type": "code",
   "execution_count": 7,
   "id": "f0dcd295",
   "metadata": {},
   "outputs": [],
   "source": [
    "def prep_data(df, scaler):\n",
    "    \n",
    "    df_reg = df.drop(['Location', 'MLS'], axis=1)\n",
    "    df_reg['Short Sale'] = np.where(df_reg['Status'] == 'Short Sale', 1, 0)\n",
    "    df_reg['Regular'] = np.where(df_reg['Status'] == 'Regular', 1, 0)\n",
    "    df_base = df_reg.drop('Status', axis=1)\n",
    "    \n",
    "    if isinstance(scaler, StandardScaler):\n",
    "        \n",
    "        cols = ['Bedrooms', 'Bathrooms', 'Size', 'Price/SQ.Ft', 'Short Sale', 'Regular']\n",
    "        scaler.fit(df_base[cols])\n",
    "        df_base[cols] = scaler.transform(df_base[cols])\n",
    "        \n",
    "    else:\n",
    "        scaler.fit(df_base[['Bedrooms', 'Bathrooms', 'Size', 'Price/SQ.Ft']])\n",
    "        df_base[['Bedrooms', 'Bathrooms', 'Size', 'Price/SQ.Ft']] = scaler.transform(df_base[['Bedrooms', 'Bathrooms', 'Size', 'Price/SQ.Ft']])\n",
    "\n",
    "    #df_base = df_base.sample(frac=1)\n",
    "    \n",
    "    return df_base\n",
    "    "
   ]
  },
  {
   "cell_type": "markdown",
   "id": "f5405d5f",
   "metadata": {},
   "source": [
    "## RidgeCV"
   ]
  },
  {
   "cell_type": "code",
   "execution_count": 8,
   "id": "8b5dde94",
   "metadata": {},
   "outputs": [],
   "source": [
    "ALPHAS = np.linspace(1, 80, 200)\n",
    "\n",
    "scaler = MinMaxScaler()\n",
    "#scaler = StandardScaler()\n",
    "\n",
    "df_base = prep_data(df, scaler)\n",
    "\n",
    "X = df_base.drop('Price', axis=1).values\n",
    "y = df_base['Price']"
   ]
  },
  {
   "cell_type": "code",
   "execution_count": 9,
   "id": "0ac7dbd8",
   "metadata": {},
   "outputs": [
    {
     "data": {
      "image/png": "[encoded data removed]",
      "text/plain": [
       "<Figure size 432x288 with 1 Axes>"
      ]
     },
     "metadata": {
      "needs_background": "light"
     },
     "output_type": "display_data"
    },
    {
     "data": {
      "image/png": "[encoded data removed]",
      "text/plain": [
       "<Figure size 432x288 with 1 Axes>"
      ]
     },
     "metadata": {
      "needs_background": "light"
     },
     "output_type": "display_data"
    }
   ],
   "source": [
    "coefs = []\n",
    "scores = []\n",
    "\n",
    "for a in ALPHAS:\n",
    "    ridge = Ridge(alpha=a, random_state=2)\n",
    "    ridge.fit(X, y)\n",
    "    kf = KFold(n_splits=5, shuffle=True, random_state=2)\n",
    "    scores.append(cross_val_score(ridge, X, y, scoring='neg_mean_squared_error', cv=kf).mean())\n",
    "    coefs.append(ridge.coef_)\n",
    "\n",
    "#x = '''  \n",
    "coefs\n",
    "\n",
    "ax = plt.gca()\n",
    "\n",
    "ax.plot(ALPHAS, coefs)\n",
    "plt.xlabel(\"alpha\")\n",
    "plt.ylabel(\"weights\")\n",
    "plt.title(\"Ridge coefficients as a function of the regularization\")\n",
    "plt.axis(\"tight\")\n",
    "plt.legend(df_base.drop('Price', axis=1).columns)\n",
    "plt.show()\n",
    "fig = ax.get_figure()\n",
    "fig.savefig(\"img/ridge_path.png\")\n",
    "#'''\n",
    "\n",
    "scores = [np.abs(x) for x in scores]\n",
    "fig, ax = plt.subplots()\n",
    "ax.plot(ALPHAS, scores)\n",
    "plt.title(\"Ridge MSE\")\n",
    "plt.xlabel(\"alpha\")\n",
    "plt.ylabel(\"MSE\")\n",
    "plt.show()\n",
    "fig = ax.get_figure()\n",
    "fig.savefig(\"img/ridge_mse.png\")"
   ]
  },
  {
   "cell_type": "code",
   "execution_count": 10,
   "id": "06d65e54",
   "metadata": {},
   "outputs": [
    {
     "name": "stdout",
     "output_type": "stream",
     "text": [
      "1\n"
     ]
    },
    {
     "data": {
      "text/plain": [
       "array([ -44820.96891261,  327915.28761923, 1447982.46422965,\n",
       "       1834968.18295397,  -12931.34365186,   55182.60694681])"
      ]
     },
     "execution_count": 10,
     "metadata": {},
     "output_type": "execute_result"
    }
   ],
   "source": [
    "alpha = round(ALPHAS[np.argsort(scores)][0])\n",
    "print(alpha)\n",
    "ridge = Ridge(alpha=alpha, random_state=2).fit(X, y)\n",
    "ridge.coef_"
   ]
  },
  {
   "cell_type": "code",
   "execution_count": 11,
   "id": "f4bc3c34",
   "metadata": {},
   "outputs": [
    {
     "data": {
      "text/html": [
       "<div>\n",
       "<style scoped>\n",
       "    .dataframe tbody tr th:only-of-type {\n",
       "        vertical-align: middle;\n",
       "    }\n",
       "\n",
       "    .dataframe tbody tr th {\n",
       "        vertical-align: top;\n",
       "    }\n",
       "\n",
       "    .dataframe thead th {\n",
       "        text-align: right;\n",
       "    }\n",
       "</style>\n",
       "<table border=\"1\" class=\"dataframe\">\n",
       "  <thead>\n",
       "    <tr style=\"text-align: right;\">\n",
       "      <th></th>\n",
       "      <th>Ridge Coefficients</th>\n",
       "    </tr>\n",
       "  </thead>\n",
       "  <tbody>\n",
       "    <tr>\n",
       "      <th>Bedrooms</th>\n",
       "      <td>-44821.0</td>\n",
       "    </tr>\n",
       "    <tr>\n",
       "      <th>Bathrooms</th>\n",
       "      <td>327915.3</td>\n",
       "    </tr>\n",
       "    <tr>\n",
       "      <th>Size</th>\n",
       "      <td>1447982.5</td>\n",
       "    </tr>\n",
       "    <tr>\n",
       "      <th>Price/SQ.Ft</th>\n",
       "      <td>1834968.2</td>\n",
       "    </tr>\n",
       "    <tr>\n",
       "      <th>Short Sale</th>\n",
       "      <td>-12931.3</td>\n",
       "    </tr>\n",
       "    <tr>\n",
       "      <th>Regular</th>\n",
       "      <td>55182.6</td>\n",
       "    </tr>\n",
       "  </tbody>\n",
       "</table>\n",
       "</div>"
      ],
      "text/plain": [
       "             Ridge Coefficients\n",
       "Bedrooms               -44821.0\n",
       "Bathrooms              327915.3\n",
       "Size                  1447982.5\n",
       "Price/SQ.Ft           1834968.2\n",
       "Short Sale             -12931.3\n",
       "Regular                 55182.6"
      ]
     },
     "execution_count": 11,
     "metadata": {},
     "output_type": "execute_result"
    }
   ],
   "source": [
    "pd.DataFrame(ridge.coef_, df_base.drop('Price', axis=1).columns, columns=['Ridge Coefficients']).round(1)"
   ]
  },
  {
   "cell_type": "markdown",
   "id": "90b6a38e",
   "metadata": {},
   "source": [
    "# Lasso"
   ]
  },
  {
   "cell_type": "code",
   "execution_count": 12,
   "id": "95227cea",
   "metadata": {},
   "outputs": [
    {
     "data": {
      "image/png": "[encoded data removed]",
      "text/plain": [
       "<Figure size 432x288 with 1 Axes>"
      ]
     },
     "metadata": {
      "needs_background": "light"
     },
     "output_type": "display_data"
    },
    {
     "data": {
      "image/png": "[encoded data removed]",
      "text/plain": [
       "<Figure size 432x288 with 1 Axes>"
      ]
     },
     "metadata": {
      "needs_background": "light"
     },
     "output_type": "display_data"
    }
   ],
   "source": [
    "scaler = MinMaxScaler()\n",
    "#scaler = StandardScaler()\n",
    "df_base = prep_data(df, scaler)\n",
    "\n",
    "ALPHAS_LASSO = np.linspace(1, 3000, 3000)\n",
    "X = df_base.drop('Price', axis=1).values\n",
    "y = df_base['Price']\n",
    "\n",
    "coefs_lasso = []\n",
    "scores_lasso = []\n",
    "for a in ALPHAS_LASSO:\n",
    "\n",
    "    kf = KFold(n_splits=5, shuffle=True, random_state=3)\n",
    "    lasso = Lasso(alpha=a, random_state=3)\n",
    "    scores_lasso.append(cross_val_score(lasso, X, y, scoring='neg_mean_squared_error', cv=kf).mean())\n",
    "    lasso.fit(X, y)\n",
    "    coefs_lasso.append(lasso.coef_)\n",
    "\n",
    "coefs_lasso\n",
    "\n",
    "scores_lasso = [np.abs(x) for x in scores_lasso]\n",
    "\n",
    "    \n",
    "ax = plt.gca()\n",
    "\n",
    "ax.plot(ALPHAS_LASSO, coefs_lasso)\n",
    "plt.xlabel(\"alpha\")\n",
    "plt.ylabel(\"weights\")\n",
    "plt.title(\"Lasso coefficients as a function of the regularization\")\n",
    "plt.legend(df_base.drop('Price', axis=1).columns)\n",
    "plt.show()\n",
    "fig = ax.get_figure()\n",
    "fig.savefig(\"img/lasso_path.png\")\n",
    "\n",
    "fig, ax = plt.subplots()\n",
    "ax.plot(ALPHAS_LASSO, scores_lasso)\n",
    "plt.title(\"LASSO MSE\")\n",
    "plt.xlabel(\"alpha\")\n",
    "plt.ylabel(\"MSE\")\n",
    "fig = ax.get_figure()\n",
    "fig.savefig(\"img/lasso_mse.png\")"
   ]
  },
  {
   "cell_type": "code",
   "execution_count": 13,
   "id": "856ea08e",
   "metadata": {},
   "outputs": [
    {
     "name": "stdout",
     "output_type": "stream",
     "text": [
      "509.0\n"
     ]
    },
    {
     "data": {
      "text/plain": [
       "array([     -0.        ,   39378.67673805, 1659942.9402319 ,\n",
       "       2041238.27485666,   -8652.08964814,   31082.50491627])"
      ]
     },
     "execution_count": 13,
     "metadata": {},
     "output_type": "execute_result"
    }
   ],
   "source": [
    "alpha = (ALPHAS_LASSO[np.argsort(scores_lasso)][0])\n",
    "print(alpha)\n",
    "\n",
    "lasso = Lasso(alpha=alpha, random_state=3).fit(X, y)\n",
    "lasso.coef_"
   ]
  },
  {
   "cell_type": "code",
   "execution_count": 14,
   "id": "48a6ddc0",
   "metadata": {},
   "outputs": [
    {
     "data": {
      "text/html": [
       "<div>\n",
       "<style scoped>\n",
       "    .dataframe tbody tr th:only-of-type {\n",
       "        vertical-align: middle;\n",
       "    }\n",
       "\n",
       "    .dataframe tbody tr th {\n",
       "        vertical-align: top;\n",
       "    }\n",
       "\n",
       "    .dataframe thead th {\n",
       "        text-align: right;\n",
       "    }\n",
       "</style>\n",
       "<table border=\"1\" class=\"dataframe\">\n",
       "  <thead>\n",
       "    <tr style=\"text-align: right;\">\n",
       "      <th></th>\n",
       "      <th>LASSO Coefficients</th>\n",
       "    </tr>\n",
       "  </thead>\n",
       "  <tbody>\n",
       "    <tr>\n",
       "      <th>Bedrooms</th>\n",
       "      <td>-0.0</td>\n",
       "    </tr>\n",
       "    <tr>\n",
       "      <th>Bathrooms</th>\n",
       "      <td>39378.7</td>\n",
       "    </tr>\n",
       "    <tr>\n",
       "      <th>Size</th>\n",
       "      <td>1659942.9</td>\n",
       "    </tr>\n",
       "    <tr>\n",
       "      <th>Price/SQ.Ft</th>\n",
       "      <td>2041238.3</td>\n",
       "    </tr>\n",
       "    <tr>\n",
       "      <th>Short Sale</th>\n",
       "      <td>-8652.1</td>\n",
       "    </tr>\n",
       "    <tr>\n",
       "      <th>Regular</th>\n",
       "      <td>31082.5</td>\n",
       "    </tr>\n",
       "  </tbody>\n",
       "</table>\n",
       "</div>"
      ],
      "text/plain": [
       "             LASSO Coefficients\n",
       "Bedrooms                   -0.0\n",
       "Bathrooms               39378.7\n",
       "Size                  1659942.9\n",
       "Price/SQ.Ft           2041238.3\n",
       "Short Sale              -8652.1\n",
       "Regular                 31082.5"
      ]
     },
     "execution_count": 14,
     "metadata": {},
     "output_type": "execute_result"
    }
   ],
   "source": [
    "pd.DataFrame(lasso.coef_, df_base.drop('Price', axis=1).columns, columns=['LASSO Coefficients']).round(1)"
   ]
  },
  {
   "cell_type": "code",
   "execution_count": 180,
   "id": "d9de644b",
   "metadata": {},
   "outputs": [
    {
     "data": {
      "text/plain": [
       "['-0.0Bedrooms',\n",
       " '39359.41Bathrooms',\n",
       " '1659945.77Size',\n",
       " '2041227.29Price/SQ.Ft',\n",
       " '-8651.84Short Sale',\n",
       " '31082.84Regular']"
      ]
     },
     "execution_count": 180,
     "metadata": {},
     "output_type": "execute_result"
    }
   ],
   "source": [
    "[str(x[0]) + str(x[1]) for x in zip(lasso.coef_.round(2), df_base.drop('Price', axis=1).columns)]"
   ]
  },
  {
   "cell_type": "code",
   "execution_count": 170,
   "id": "a9a862a8",
   "metadata": {},
   "outputs": [
    {
     "data": {
      "image/png": "[encoded data removed]",
      "text/plain": [
       "<Figure size 432x288 with 2 Axes>"
      ]
     },
     "metadata": {
      "needs_background": "light"
     },
     "output_type": "display_data"
    }
   ],
   "source": [
    "sns.heatmap(df_base.corr(), cmap='RdBu')\n",
    "plt.savefig(\"img/corr.png\")"
   ]
  },
  {
   "cell_type": "code",
   "execution_count": null,
   "id": "daf67d85",
   "metadata": {},
   "outputs": [],
   "source": []
  }
 ],
 "metadata": {
  "kernelspec": {
   "display_name": "Python 3 (ipykernel)",
   "language": "python",
   "name": "python3"
  },
  "language_info": {
   "codemirror_mode": {
    "name": "ipython",
    "version": 3
   },
   "file_extension": ".py",
   "mimetype": "text/x-python",
   "name": "python",
   "nbconvert_exporter": "python",
   "pygments_lexer": "ipython3",
   "version": "3.9.10"
  }
 },
 "nbformat": 4,
 "nbformat_minor": 5
}

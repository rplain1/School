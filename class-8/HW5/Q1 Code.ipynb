{
 "cells": [
  {
   "cell_type": "code",
   "execution_count": 29,
   "id": "67c451cd",
   "metadata": {},
   "outputs": [],
   "source": [
    "import numpy as np\n",
    "import pandas as pd\n",
    "import matplotlib.pyplot as plt\n",
    "import seaborn as sns\n",
    "from scipy.stats import norm"
   ]
  },
  {
   "cell_type": "markdown",
   "id": "8f919c34",
   "metadata": {},
   "source": [
    "# A."
   ]
  },
  {
   "cell_type": "code",
   "execution_count": 79,
   "id": "6fcd7a19",
   "metadata": {},
   "outputs": [],
   "source": [
    "def I(N11, N10, N01, N00):\n",
    "    \n",
    "    arr = np.array([N11, N10, N01, N00])\n",
    "    \n",
    "    N = arr.sum()\n",
    "    \n",
    "    N1_ = (N11 + N10)\n",
    "    N_1 = (N11 + N01)\n",
    "    N0_ = (N01 + N00)\n",
    "    N_0 = (N10 + N00)\n",
    "    \n",
    "    var1 = (N11/N) * np.log2( (N*N11) / (N1_ * N_1) )\n",
    "    \n",
    "    var2 = (N01/N) * np.log2( (N*N01) / (N0_ * N_1) )\n",
    "    \n",
    "    var3 = (N10/N) * np.log2( (N*N10) / (N1_ * N_0) )\n",
    "    \n",
    "    var4 = (N00/N) * np.log2( (N*N00) / (N0_ * N_0) )\n",
    "    \n",
    "    \n",
    "    return var1 + var2 + var3 + var4\n",
    "    \n",
    "                        "
   ]
  },
  {
   "cell_type": "code",
   "execution_count": 81,
   "id": "c62124b1",
   "metadata": {},
   "outputs": [
    {
     "name": "stdout",
     "output_type": "stream",
     "text": [
      "prize 0.032960118763953966\n",
      "hello 0.0001872237395595837\n"
     ]
    }
   ],
   "source": [
    "prize = I(150, 10, 1_000, 15_000)\n",
    "hello = I(155, 5, 14_000, 1_000)\n",
    "\n",
    "print('prize', round(prize))\n",
    "print('hello', round(hello))"
   ]
  },
  {
   "cell_type": "markdown",
   "id": "5d7e5b99",
   "metadata": {},
   "source": [
    "# B. "
   ]
  },
  {
   "cell_type": "code",
   "execution_count": 71,
   "id": "b39677e7",
   "metadata": {},
   "outputs": [],
   "source": [
    "np.random.seed(6704)\n",
    "f0 = np.random.normal(0, 1, 100)\n",
    "f1 = np.random.normal(1.5, np.sqrt(1.1), 200)\n",
    "\n",
    "arr = np.append(f0, f1)"
   ]
  },
  {
   "cell_type": "code",
   "execution_count": 72,
   "id": "d8a511bf",
   "metadata": {},
   "outputs": [],
   "source": [
    "w = []\n",
    "\n",
    "count = 0\n",
    "for i in range(len(arr)):\n",
    "    \n",
    "    if count == 0:\n",
    "        w.append(0)\n",
    "        count += 1\n",
    "        continue\n",
    "    \n",
    "    Lf0 = norm.pdf(arr[i], loc=0, scale=1)\n",
    "    Lf1 = norm.pdf(arr[i], loc=1.5, scale=1.1)\n",
    "    \n",
    "    LL = np.log(Lf1/ Lf0)\n",
    "    \n",
    "    x = w[i-1] + LL\n",
    "    \n",
    "    wt = np.max([x, 0])\n",
    "    \n",
    "    w.append(wt)\n",
    "    \n",
    "    "
   ]
  },
  {
   "cell_type": "code",
   "execution_count": 73,
   "id": "a62a570c",
   "metadata": {},
   "outputs": [
    {
     "data": {
      "text/plain": [
       "<matplotlib.lines.Line2D at 0x16c800e20>"
      ]
     },
     "execution_count": 73,
     "metadata": {},
     "output_type": "execute_result"
    },
    {
     "data": {
      "image/png": "[encoded data removed]",
      "text/plain": [
       "<Figure size 432x288 with 1 Axes>"
      ]
     },
     "metadata": {
      "needs_background": "light"
     },
     "output_type": "display_data"
    }
   ],
   "source": [
    "df = pd.DataFrame({'cp':w})\n",
    "ax = sns.lineplot(data=df, y='cp', x=df.index, )\n",
    "ax.axhline(3, c='r')"
   ]
  },
  {
   "cell_type": "code",
   "execution_count": 74,
   "id": "150a6377",
   "metadata": {},
   "outputs": [],
   "source": [
    "fig = ax.get_figure()\n",
    "fig.savefig('img/part1_b.png')"
   ]
  },
  {
   "cell_type": "code",
   "execution_count": 75,
   "id": "ccc6b8f5",
   "metadata": {},
   "outputs": [
    {
     "data": {
      "text/html": [
       "<div>\n",
       "<style scoped>\n",
       "    .dataframe tbody tr th:only-of-type {\n",
       "        vertical-align: middle;\n",
       "    }\n",
       "\n",
       "    .dataframe tbody tr th {\n",
       "        vertical-align: top;\n",
       "    }\n",
       "\n",
       "    .dataframe thead th {\n",
       "        text-align: right;\n",
       "    }\n",
       "</style>\n",
       "<table border=\"1\" class=\"dataframe\">\n",
       "  <thead>\n",
       "    <tr style=\"text-align: right;\">\n",
       "      <th></th>\n",
       "      <th>cp</th>\n",
       "    </tr>\n",
       "  </thead>\n",
       "  <tbody>\n",
       "    <tr>\n",
       "      <th>83</th>\n",
       "      <td>3.815542</td>\n",
       "    </tr>\n",
       "    <tr>\n",
       "      <th>103</th>\n",
       "      <td>3.640571</td>\n",
       "    </tr>\n",
       "    <tr>\n",
       "      <th>105</th>\n",
       "      <td>5.731734</td>\n",
       "    </tr>\n",
       "    <tr>\n",
       "      <th>106</th>\n",
       "      <td>4.621871</td>\n",
       "    </tr>\n",
       "    <tr>\n",
       "      <th>107</th>\n",
       "      <td>5.121379</td>\n",
       "    </tr>\n",
       "    <tr>\n",
       "      <th>...</th>\n",
       "      <td>...</td>\n",
       "    </tr>\n",
       "    <tr>\n",
       "      <th>295</th>\n",
       "      <td>234.943879</td>\n",
       "    </tr>\n",
       "    <tr>\n",
       "      <th>296</th>\n",
       "      <td>238.171269</td>\n",
       "    </tr>\n",
       "    <tr>\n",
       "      <th>297</th>\n",
       "      <td>238.780746</td>\n",
       "    </tr>\n",
       "    <tr>\n",
       "      <th>298</th>\n",
       "      <td>240.453685</td>\n",
       "    </tr>\n",
       "    <tr>\n",
       "      <th>299</th>\n",
       "      <td>243.060890</td>\n",
       "    </tr>\n",
       "  </tbody>\n",
       "</table>\n",
       "<p>197 rows × 1 columns</p>\n",
       "</div>"
      ],
      "text/plain": [
       "             cp\n",
       "83     3.815542\n",
       "103    3.640571\n",
       "105    5.731734\n",
       "106    4.621871\n",
       "107    5.121379\n",
       "..          ...\n",
       "295  234.943879\n",
       "296  238.171269\n",
       "297  238.780746\n",
       "298  240.453685\n",
       "299  243.060890\n",
       "\n",
       "[197 rows x 1 columns]"
      ]
     },
     "execution_count": 75,
     "metadata": {},
     "output_type": "execute_result"
    }
   ],
   "source": [
    "df= pd.DataFrame({'cp':w})\n",
    "df.query(\"cp > 3\")"
   ]
  },
  {
   "cell_type": "code",
   "execution_count": null,
   "id": "ccdf731e",
   "metadata": {},
   "outputs": [],
   "source": [
    "norm.pdf()"
   ]
  },
  {
   "cell_type": "code",
   "execution_count": 39,
   "id": "6d896cc6",
   "metadata": {},
   "outputs": [
    {
     "data": {
      "text/plain": [
       "1.0488088481701516"
      ]
     },
     "execution_count": 39,
     "metadata": {},
     "output_type": "execute_result"
    }
   ],
   "source": [
    "np.sqrt(1.1)"
   ]
  },
  {
   "cell_type": "code",
   "execution_count": null,
   "id": "5640c9cb",
   "metadata": {},
   "outputs": [],
   "source": []
  },
  {
   "cell_type": "code",
   "execution_count": null,
   "id": "5deaf6e0",
   "metadata": {},
   "outputs": [],
   "source": []
  },
  {
   "cell_type": "code",
   "execution_count": null,
   "id": "0deeeb22",
   "metadata": {},
   "outputs": [],
   "source": []
  },
  {
   "cell_type": "code",
   "execution_count": null,
   "id": "101f9be4",
   "metadata": {},
   "outputs": [],
   "source": []
  },
  {
   "cell_type": "code",
   "execution_count": null,
   "id": "025ea4e0",
   "metadata": {},
   "outputs": [],
   "source": []
  },
  {
   "cell_type": "code",
   "execution_count": null,
   "id": "32227846",
   "metadata": {},
   "outputs": [],
   "source": []
  },
  {
   "cell_type": "code",
   "execution_count": null,
   "id": "21a15011",
   "metadata": {},
   "outputs": [],
   "source": []
  },
  {
   "cell_type": "code",
   "execution_count": null,
   "id": "ac4a3f0b",
   "metadata": {},
   "outputs": [],
   "source": []
  },
  {
   "cell_type": "code",
   "execution_count": null,
   "id": "9655a3c9",
   "metadata": {},
   "outputs": [],
   "source": []
  },
  {
   "cell_type": "code",
   "execution_count": null,
   "id": "10c86b94",
   "metadata": {},
   "outputs": [],
   "source": []
  },
  {
   "cell_type": "code",
   "execution_count": null,
   "id": "270ccba0",
   "metadata": {},
   "outputs": [],
   "source": []
  }
 ],
 "metadata": {
  "kernelspec": {
   "display_name": "Python 3 (ipykernel)",
   "language": "python",
   "name": "python3"
  },
  "language_info": {
   "codemirror_mode": {
    "name": "ipython",
    "version": 3
   },
   "file_extension": ".py",
   "mimetype": "text/x-python",
   "name": "python",
   "nbconvert_exporter": "python",
   "pygments_lexer": "ipython3",
   "version": "3.9.10"
  }
 },
 "nbformat": 4,
 "nbformat_minor": 5
}

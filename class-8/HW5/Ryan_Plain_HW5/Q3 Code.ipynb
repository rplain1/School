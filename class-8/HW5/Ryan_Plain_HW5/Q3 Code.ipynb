{
 "cells": [
  {
   "cell_type": "code",
   "execution_count": 1,
   "id": "2bca3379",
   "metadata": {},
   "outputs": [],
   "source": [
    "import numpy as np\n",
    "import pandas as pd\n",
    "import matplotlib.pyplot as plt\n",
    "import seaborn as sns\n",
    "from scipy.io import loadmat"
   ]
  },
  {
   "cell_type": "code",
   "execution_count": 2,
   "id": "4443c1de",
   "metadata": {},
   "outputs": [
    {
     "data": {
      "text/plain": [
       "(50, 50)"
      ]
     },
     "execution_count": 2,
     "metadata": {},
     "output_type": "execute_result"
    }
   ],
   "source": [
    "mat = loadmat(\"data/cs.mat\")\n",
    "mat['img'].shape"
   ]
  },
  {
   "cell_type": "code",
   "execution_count": 3,
   "id": "d21f6f99",
   "metadata": {},
   "outputs": [
    {
     "data": {
      "text/plain": [
       "(50, 50)"
      ]
     },
     "execution_count": 3,
     "metadata": {},
     "output_type": "execute_result"
    }
   ],
   "source": [
    "cs = mat['img']\n",
    "\n",
    "cs.shape"
   ]
  },
  {
   "cell_type": "code",
   "execution_count": 48,
   "id": "8a9669fe",
   "metadata": {},
   "outputs": [
    {
     "data": {
      "image/png": "[encoded data removed]",
      "text/plain": [
       "<Figure size 432x288 with 1 Axes>"
      ]
     },
     "metadata": {
      "needs_background": "light"
     },
     "output_type": "display_data"
    }
   ],
   "source": [
    "plt.imshow(cs, cmap='Greys')\n",
    "plt.savefig(\"img/cs.png\")"
   ]
  },
  {
   "cell_type": "code",
   "execution_count": 5,
   "id": "eb5124f4",
   "metadata": {},
   "outputs": [],
   "source": [
    "n = 1300\n",
    "p = 2500"
   ]
  },
  {
   "cell_type": "code",
   "execution_count": 6,
   "id": "ba6065d6",
   "metadata": {},
   "outputs": [
    {
     "name": "stdout",
     "output_type": "stream",
     "text": [
      "(1300, 2500)\n",
      "(1300, 1)\n"
     ]
    }
   ],
   "source": [
    "A = np.random.normal(0, 1, (1300, 2500))\n",
    "print(A.shape)\n",
    "eps = np.random.normal(0, 5, (1300, 1))\n",
    "print(eps.shape)\n"
   ]
  },
  {
   "cell_type": "code",
   "execution_count": 7,
   "id": "9f289a17",
   "metadata": {},
   "outputs": [
    {
     "name": "stdout",
     "output_type": "stream",
     "text": [
      "(1300, 2500)\n",
      "(2500,)\n",
      "(1300, 1)\n",
      "(1300,)\n"
     ]
    },
    {
     "data": {
      "text/plain": [
       "(1300, 1)"
      ]
     },
     "execution_count": 7,
     "metadata": {},
     "output_type": "execute_result"
    }
   ],
   "source": [
    "print(A.shape)\n",
    "print(cs.flatten().shape)\n",
    "print(eps.shape)\n",
    "print((A @ cs.flatten()).shape)\n",
    "(( A @ cs.reshape((2500, 1)) ) + eps).shape"
   ]
  },
  {
   "cell_type": "code",
   "execution_count": 8,
   "id": "697c6f83",
   "metadata": {},
   "outputs": [],
   "source": [
    "y = (( A @ cs.reshape((2500, 1)) ) + eps)"
   ]
  },
  {
   "cell_type": "code",
   "execution_count": 9,
   "id": "cb4a1095",
   "metadata": {},
   "outputs": [
    {
     "data": {
      "text/plain": [
       "(1300, 1)"
      ]
     },
     "execution_count": 9,
     "metadata": {},
     "output_type": "execute_result"
    }
   ],
   "source": [
    "( A @ cs.reshape((2500, 1)) ).shape"
   ]
  },
  {
   "cell_type": "code",
   "execution_count": 10,
   "id": "09205242",
   "metadata": {},
   "outputs": [],
   "source": [
    "from sklearn.linear_model import LassoCV"
   ]
  },
  {
   "cell_type": "code",
   "execution_count": 11,
   "id": "85f1d367",
   "metadata": {},
   "outputs": [],
   "source": [
    "from sklearn.linear_model import Lasso\n",
    "from sklearn.model_selection import RepeatedKFold\n",
    "from sklearn.model_selection import cross_val_score\n",
    "\n",
    "mse = {}\n",
    "for i in np.linspace(0.01, 0.99, 99):\n",
    "    lasso = Lasso(alpha=i, max_iter=5000)\n",
    "    cv = RepeatedKFold(n_splits=10, n_repeats=1, random_state=3)\n",
    "    scores = cross_val_score(lasso, A, y, scoring='neg_mean_squared_error', cv=cv, n_jobs=-1)\n",
    "    \n",
    "    mse[i] = scores.mean()"
   ]
  },
  {
   "cell_type": "code",
   "execution_count": 12,
   "id": "4acb568c",
   "metadata": {},
   "outputs": [
    {
     "data": {
      "image/png": "[encoded data removed]",
      "text/plain": [
       "<Figure size 432x288 with 1 Axes>"
      ]
     },
     "metadata": {
      "needs_background": "light"
     },
     "output_type": "display_data"
    }
   ],
   "source": [
    "plt.plot(mse.keys(), ([np.abs(x) for x in mse.values()]))\n",
    "plt.title(\"LASSO MSE\")\n",
    "plt.xlabel(\"alpha\")\n",
    "plt.ylabel(\"MSE\")\n",
    "plt.savefig(\"img/mse_lasso_pt3.png\")"
   ]
  },
  {
   "cell_type": "code",
   "execution_count": 49,
   "id": "f8eb04e0",
   "metadata": {},
   "outputs": [
    {
     "data": {
      "text/plain": [
       "0.060000000000000005"
      ]
     },
     "execution_count": 49,
     "metadata": {},
     "output_type": "execute_result"
    }
   ],
   "source": [
    "alphas = [np.abs(x) for x in mse.values()]\n",
    "a = np.argsort(alphas)\n",
    "alpha = list(mse.keys())[a[0]]\n",
    "alpha"
   ]
  },
  {
   "cell_type": "code",
   "execution_count": 14,
   "id": "e660cf76",
   "metadata": {},
   "outputs": [
    {
     "data": {
      "text/plain": [
       "(2500,)"
      ]
     },
     "execution_count": 14,
     "metadata": {},
     "output_type": "execute_result"
    }
   ],
   "source": [
    "lasso = Lasso(alpha=alpha, max_iter=2000).fit(A, y)\n",
    "lasso.coef_.shape"
   ]
  },
  {
   "cell_type": "code",
   "execution_count": 42,
   "id": "1d3d884e",
   "metadata": {},
   "outputs": [
    {
     "data": {
      "image/png": "[encoded data removed]",
      "text/plain": [
       "<Figure size 432x288 with 1 Axes>"
      ]
     },
     "metadata": {
      "needs_background": "light"
     },
     "output_type": "display_data"
    }
   ],
   "source": [
    "plt.imshow(lasso.coef_.reshape((50, 50)), cmap=\"Greys\")\n",
    "plt.savefig(\"img/lasso_plot.png\")"
   ]
  },
  {
   "cell_type": "code",
   "execution_count": 43,
   "id": "95824623",
   "metadata": {},
   "outputs": [],
   "source": [
    "from sklearn.linear_model import Ridge"
   ]
  },
  {
   "cell_type": "code",
   "execution_count": 44,
   "id": "1dc70b80",
   "metadata": {},
   "outputs": [
    {
     "data": {
      "image/png": "[encoded data removed]",
      "text/plain": [
       "<Figure size 432x288 with 1 Axes>"
      ]
     },
     "metadata": {
      "needs_background": "light"
     },
     "output_type": "display_data"
    }
   ],
   "source": [
    "mse_ridge = {}\n",
    "for i in np.linspace(1, 500, 250):\n",
    "    ridge = Ridge(alpha=i, max_iter=5000)\n",
    "    cv = RepeatedKFold(n_splits=10, n_repeats=1, random_state=3)\n",
    "    scores = cross_val_score(ridge, A, y, scoring='neg_mean_squared_error', cv=cv, n_jobs=-1)\n",
    "    \n",
    "    mse_ridge[i] = scores.mean()\n",
    "    \n",
    "plt.plot(mse_ridge.keys(), [np.abs(x) for x in mse_ridge.values()])\n",
    "plt.title(\"Ridge MSE\")\n",
    "plt.xlabel(\"alpha\")\n",
    "plt.ylabel(\"MSE\")\n",
    "plt.savefig(\"img/mse_ridge_pt3.png\")"
   ]
  },
  {
   "cell_type": "code",
   "execution_count": 45,
   "id": "b3df0093",
   "metadata": {},
   "outputs": [
    {
     "data": {
      "text/plain": [
       "101.20080321285141"
      ]
     },
     "execution_count": 45,
     "metadata": {},
     "output_type": "execute_result"
    }
   ],
   "source": [
    "alphas_r = [np.abs(x) for x in mse_ridge.values()]\n",
    "a_r = np.argsort(alphas_r)\n",
    "alpha_r = list(mse_ridge.keys())[a_r[0]]\n",
    "alpha_r"
   ]
  },
  {
   "cell_type": "code",
   "execution_count": 46,
   "id": "0c5c035a",
   "metadata": {},
   "outputs": [
    {
     "data": {
      "text/plain": [
       "(1, 2500)"
      ]
     },
     "execution_count": 46,
     "metadata": {},
     "output_type": "execute_result"
    }
   ],
   "source": [
    "ridge = Ridge(alpha=round(alpha_r), max_iter=2000).fit(A, y)\n",
    "ridge.coef_.shape"
   ]
  },
  {
   "cell_type": "code",
   "execution_count": 47,
   "id": "76f59808",
   "metadata": {},
   "outputs": [
    {
     "data": {
      "image/png": "[encoded data removed]",
      "text/plain": [
       "<Figure size 432x288 with 1 Axes>"
      ]
     },
     "metadata": {
      "needs_background": "light"
     },
     "output_type": "display_data"
    }
   ],
   "source": [
    "plt.imshow(ridge.coef_.reshape((50, 50)), cmap='Greys')\n",
    "plt.savefig(\"img/ridge_plot.png\")"
   ]
  },
  {
   "cell_type": "code",
   "execution_count": null,
   "id": "533fcc59",
   "metadata": {},
   "outputs": [],
   "source": []
  }
 ],
 "metadata": {
  "kernelspec": {
   "display_name": "Python 3 (ipykernel)",
   "language": "python",
   "name": "python3"
  },
  "language_info": {
   "codemirror_mode": {
    "name": "ipython",
    "version": 3
   },
   "file_extension": ".py",
   "mimetype": "text/x-python",
   "name": "python",
   "nbconvert_exporter": "python",
   "pygments_lexer": "ipython3",
   "version": "3.9.10"
  }
 },
 "nbformat": 4,
 "nbformat_minor": 5
}
